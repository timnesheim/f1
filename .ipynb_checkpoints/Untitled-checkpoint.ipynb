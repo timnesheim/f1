{
 "cells": [
  {
   "cell_type": "code",
   "execution_count": 1,
   "id": "breeding-teaching",
   "metadata": {},
   "outputs": [],
   "source": [
    "import os\n",
    "import pandas as pd\n",
    "import numpy as np"
   ]
  },
  {
   "cell_type": "code",
   "execution_count": 2,
   "id": "pretty-understanding",
   "metadata": {},
   "outputs": [],
   "source": [
    "from datetime import datetime as dt"
   ]
  },
  {
   "cell_type": "code",
   "execution_count": 3,
   "id": "weird-retirement",
   "metadata": {},
   "outputs": [],
   "source": [
    "import plotly.express as px"
   ]
  },
  {
   "cell_type": "code",
   "execution_count": null,
   "id": "italic-roots",
   "metadata": {},
   "outputs": [],
   "source": [
    "'''\n",
    "data is from Kaggle: https://www.kaggle.com/cjgdev/formula-1-race-data-19502017\n",
    "'''"
   ]
  },
  {
   "cell_type": "code",
   "execution_count": 4,
   "id": "administrative-stewart",
   "metadata": {},
   "outputs": [],
   "source": [
    "# importing csv files as Pandas DataFrames and appending them to dfs dictionary\n",
    "dfs = {} \n",
    "for f in os.listdir():\n",
    "    if f.endswith('.csv'):\n",
    "        filename = os.path.splitext(f)[0]\n",
    "        dfs[filename] = pd.read_csv(f)"
   ]
  },
  {
   "cell_type": "code",
   "execution_count": null,
   "id": "pacific-filename",
   "metadata": {},
   "outputs": [],
   "source": [
    "'''\n",
    "needed columns from each DataFrame:\n",
    "\n",
    "circuits - circuitId, name\n",
    "status - statusId, status\n",
    "drivers - driverId, forename, surname\n",
    "races - raceId, year, circuitId, name\n",
    "constructors - constructorId, name\n",
    "lapTimes - raceId, driverId, lap, position, time, milliseconds\n",
    "results - 'resultId', 'raceId', 'driverId', 'constructorId', 'number', 'grid',\n",
    "       'position', 'positionText', 'positionOrder', 'points', 'laps', 'time',\n",
    "       'milliseconds', 'fastestLap', 'rank', 'fastestLapTime',\n",
    "       'fastestLapSpeed', 'statusId'\n",
    "       \n",
    "'''"
   ]
  },
  {
   "cell_type": "code",
   "execution_count": 5,
   "id": "later-throw",
   "metadata": {},
   "outputs": [],
   "source": [
    "# merging circuits and races as race_info dataframe\n",
    "race_info = pd.merge(dfs['circuits'][['circuitId','name']],dfs['races'][['raceId','year','circuitId','name']], on='circuitId')\n",
    "race_info = race_info.rename(columns={'name_x':'circuit_name','name_y':'race_name'})"
   ]
  },
  {
   "cell_type": "code",
   "execution_count": 6,
   "id": "bridal-capacity",
   "metadata": {},
   "outputs": [],
   "source": [
    "# merging results and drivers as results_driver\n",
    "results_driver = pd.merge(dfs['results'],dfs['drivers'][['driverId','forename','surname']], on='driverId')"
   ]
  },
  {
   "cell_type": "code",
   "execution_count": 7,
   "id": "wound-assumption",
   "metadata": {},
   "outputs": [],
   "source": [
    "# merging results_driver and constructors as results_driver_const\n",
    "results_driver_const = pd.merge(results_driver,dfs['constructors'][['constructorId','name']], on='constructorId')"
   ]
  },
  {
   "cell_type": "code",
   "execution_count": 8,
   "id": "thrown-electronics",
   "metadata": {},
   "outputs": [],
   "source": [
    "# merging results_driver_const and status as results_status\n",
    "results_status = pd.merge(results_driver_const,dfs['status'][['statusId','status']], on='statusId')"
   ]
  },
  {
   "cell_type": "code",
   "execution_count": 9,
   "id": "defensive-vegetarian",
   "metadata": {},
   "outputs": [],
   "source": [
    "# merging results_status and lapTimes as results_laptimes\n",
    "results_laptimes = pd.merge(results_status,dfs['lapTimes'][['raceId','driverId','lap','position','time','milliseconds']],on=['raceId','driverId'])\n",
    "results_laptimes = results_laptimes.rename(columns={'position_x':'position','time_x':'time','milliseconds_x':'milliseconds',\n",
    "                                                   'position_y':'lap_position','time_y':'lap_time','milliseconds_y':'lap_milliseconds'})"
   ]
  },
  {
   "cell_type": "code",
   "execution_count": 10,
   "id": "weekly-dependence",
   "metadata": {},
   "outputs": [],
   "source": [
    "# merging results_laptimes and race_info as df_final\n",
    "df_final = pd.merge(results_laptimes, race_info, on='raceId')"
   ]
  },
  {
   "cell_type": "markdown",
   "id": "rapid-sussex",
   "metadata": {},
   "source": [
    "**How has the fastest lap time changed over time?**"
   ]
  },
  {
   "cell_type": "code",
   "execution_count": 11,
   "id": "accepting-authority",
   "metadata": {},
   "outputs": [],
   "source": [
    "# finiding fastest lap for each race\n",
    "df_fast_lap = df_final[['year','raceId','race_name','circuit_name','forename','surname','name','fastestLap','fastestLapTime']]"
   ]
  },
  {
   "cell_type": "code",
   "execution_count": 90,
   "id": "decent-biography",
   "metadata": {},
   "outputs": [
    {
     "data": {
      "text/html": [
       "<div>\n",
       "<style scoped>\n",
       "    .dataframe tbody tr th:only-of-type {\n",
       "        vertical-align: middle;\n",
       "    }\n",
       "\n",
       "    .dataframe tbody tr th {\n",
       "        vertical-align: top;\n",
       "    }\n",
       "\n",
       "    .dataframe thead th {\n",
       "        text-align: right;\n",
       "    }\n",
       "</style>\n",
       "<table border=\"1\" class=\"dataframe\">\n",
       "  <thead>\n",
       "    <tr style=\"text-align: right;\">\n",
       "      <th></th>\n",
       "      <th>year</th>\n",
       "      <th>raceId</th>\n",
       "      <th>race_name</th>\n",
       "      <th>circuit_name</th>\n",
       "      <th>forename</th>\n",
       "      <th>surname</th>\n",
       "      <th>name</th>\n",
       "      <th>fastestLap</th>\n",
       "      <th>fastestLapTime</th>\n",
       "    </tr>\n",
       "  </thead>\n",
       "  <tbody>\n",
       "    <tr>\n",
       "      <th>0</th>\n",
       "      <td>2008</td>\n",
       "      <td>18</td>\n",
       "      <td>Australian Grand Prix</td>\n",
       "      <td>Albert Park Grand Prix Circuit</td>\n",
       "      <td>Lewis</td>\n",
       "      <td>Hamilton</td>\n",
       "      <td>McLaren</td>\n",
       "      <td>39.0</td>\n",
       "      <td>01:27.5</td>\n",
       "    </tr>\n",
       "    <tr>\n",
       "      <th>1</th>\n",
       "      <td>2008</td>\n",
       "      <td>18</td>\n",
       "      <td>Australian Grand Prix</td>\n",
       "      <td>Albert Park Grand Prix Circuit</td>\n",
       "      <td>Lewis</td>\n",
       "      <td>Hamilton</td>\n",
       "      <td>McLaren</td>\n",
       "      <td>39.0</td>\n",
       "      <td>01:27.5</td>\n",
       "    </tr>\n",
       "    <tr>\n",
       "      <th>2</th>\n",
       "      <td>2008</td>\n",
       "      <td>18</td>\n",
       "      <td>Australian Grand Prix</td>\n",
       "      <td>Albert Park Grand Prix Circuit</td>\n",
       "      <td>Lewis</td>\n",
       "      <td>Hamilton</td>\n",
       "      <td>McLaren</td>\n",
       "      <td>39.0</td>\n",
       "      <td>01:27.5</td>\n",
       "    </tr>\n",
       "    <tr>\n",
       "      <th>3</th>\n",
       "      <td>2008</td>\n",
       "      <td>18</td>\n",
       "      <td>Australian Grand Prix</td>\n",
       "      <td>Albert Park Grand Prix Circuit</td>\n",
       "      <td>Lewis</td>\n",
       "      <td>Hamilton</td>\n",
       "      <td>McLaren</td>\n",
       "      <td>39.0</td>\n",
       "      <td>01:27.5</td>\n",
       "    </tr>\n",
       "    <tr>\n",
       "      <th>4</th>\n",
       "      <td>2008</td>\n",
       "      <td>18</td>\n",
       "      <td>Australian Grand Prix</td>\n",
       "      <td>Albert Park Grand Prix Circuit</td>\n",
       "      <td>Lewis</td>\n",
       "      <td>Hamilton</td>\n",
       "      <td>McLaren</td>\n",
       "      <td>39.0</td>\n",
       "      <td>01:27.5</td>\n",
       "    </tr>\n",
       "    <tr>\n",
       "      <th>...</th>\n",
       "      <td>...</td>\n",
       "      <td>...</td>\n",
       "      <td>...</td>\n",
       "      <td>...</td>\n",
       "      <td>...</td>\n",
       "      <td>...</td>\n",
       "      <td>...</td>\n",
       "      <td>...</td>\n",
       "      <td>...</td>\n",
       "    </tr>\n",
       "    <tr>\n",
       "      <th>426299</th>\n",
       "      <td>1998</td>\n",
       "      <td>197</td>\n",
       "      <td>Canadian Grand Prix</td>\n",
       "      <td>Circuit Gilles Villeneuve</td>\n",
       "      <td>David</td>\n",
       "      <td>Coulthard</td>\n",
       "      <td>McLaren</td>\n",
       "      <td>NaN</td>\n",
       "      <td>NaN</td>\n",
       "    </tr>\n",
       "    <tr>\n",
       "      <th>426300</th>\n",
       "      <td>1998</td>\n",
       "      <td>197</td>\n",
       "      <td>Canadian Grand Prix</td>\n",
       "      <td>Circuit Gilles Villeneuve</td>\n",
       "      <td>David</td>\n",
       "      <td>Coulthard</td>\n",
       "      <td>McLaren</td>\n",
       "      <td>NaN</td>\n",
       "      <td>NaN</td>\n",
       "    </tr>\n",
       "    <tr>\n",
       "      <th>426301</th>\n",
       "      <td>1998</td>\n",
       "      <td>197</td>\n",
       "      <td>Canadian Grand Prix</td>\n",
       "      <td>Circuit Gilles Villeneuve</td>\n",
       "      <td>David</td>\n",
       "      <td>Coulthard</td>\n",
       "      <td>McLaren</td>\n",
       "      <td>NaN</td>\n",
       "      <td>NaN</td>\n",
       "    </tr>\n",
       "    <tr>\n",
       "      <th>426302</th>\n",
       "      <td>1998</td>\n",
       "      <td>197</td>\n",
       "      <td>Canadian Grand Prix</td>\n",
       "      <td>Circuit Gilles Villeneuve</td>\n",
       "      <td>David</td>\n",
       "      <td>Coulthard</td>\n",
       "      <td>McLaren</td>\n",
       "      <td>NaN</td>\n",
       "      <td>NaN</td>\n",
       "    </tr>\n",
       "    <tr>\n",
       "      <th>426303</th>\n",
       "      <td>1998</td>\n",
       "      <td>197</td>\n",
       "      <td>Canadian Grand Prix</td>\n",
       "      <td>Circuit Gilles Villeneuve</td>\n",
       "      <td>David</td>\n",
       "      <td>Coulthard</td>\n",
       "      <td>McLaren</td>\n",
       "      <td>NaN</td>\n",
       "      <td>NaN</td>\n",
       "    </tr>\n",
       "  </tbody>\n",
       "</table>\n",
       "<p>426304 rows × 9 columns</p>\n",
       "</div>"
      ],
      "text/plain": [
       "        year  raceId              race_name                    circuit_name  \\\n",
       "0       2008      18  Australian Grand Prix  Albert Park Grand Prix Circuit   \n",
       "1       2008      18  Australian Grand Prix  Albert Park Grand Prix Circuit   \n",
       "2       2008      18  Australian Grand Prix  Albert Park Grand Prix Circuit   \n",
       "3       2008      18  Australian Grand Prix  Albert Park Grand Prix Circuit   \n",
       "4       2008      18  Australian Grand Prix  Albert Park Grand Prix Circuit   \n",
       "...      ...     ...                    ...                             ...   \n",
       "426299  1998     197    Canadian Grand Prix       Circuit Gilles Villeneuve   \n",
       "426300  1998     197    Canadian Grand Prix       Circuit Gilles Villeneuve   \n",
       "426301  1998     197    Canadian Grand Prix       Circuit Gilles Villeneuve   \n",
       "426302  1998     197    Canadian Grand Prix       Circuit Gilles Villeneuve   \n",
       "426303  1998     197    Canadian Grand Prix       Circuit Gilles Villeneuve   \n",
       "\n",
       "       forename    surname     name  fastestLap fastestLapTime  \n",
       "0         Lewis   Hamilton  McLaren        39.0        01:27.5  \n",
       "1         Lewis   Hamilton  McLaren        39.0        01:27.5  \n",
       "2         Lewis   Hamilton  McLaren        39.0        01:27.5  \n",
       "3         Lewis   Hamilton  McLaren        39.0        01:27.5  \n",
       "4         Lewis   Hamilton  McLaren        39.0        01:27.5  \n",
       "...         ...        ...      ...         ...            ...  \n",
       "426299    David  Coulthard  McLaren         NaN            NaN  \n",
       "426300    David  Coulthard  McLaren         NaN            NaN  \n",
       "426301    David  Coulthard  McLaren         NaN            NaN  \n",
       "426302    David  Coulthard  McLaren         NaN            NaN  \n",
       "426303    David  Coulthard  McLaren         NaN            NaN  \n",
       "\n",
       "[426304 rows x 9 columns]"
      ]
     },
     "execution_count": 90,
     "metadata": {},
     "output_type": "execute_result"
    }
   ],
   "source": [
    "df_fast_lap"
   ]
  },
  {
   "cell_type": "code",
   "execution_count": 12,
   "id": "based-quilt",
   "metadata": {},
   "outputs": [],
   "source": [
    "def get_fastest_laps(df):\n",
    "    \n",
    "    res_df = pd.DataFrame(columns=['year','raceId','race_name','circuit_name','forename','surname','name',\n",
    "                                      'fastestLap','fastestLapTime'])\n",
    "    race_ids = df_fast_lap['raceId'].unique()\n",
    "    for race_id in race_ids:\n",
    "        temp_df = df[df['raceId'] == race_id].drop_duplicates().dropna()\n",
    "        min_val = temp_df[temp_df['fastestLapTime'] == temp_df['fastestLapTime'].min()].to_dict(orient='records')\n",
    "        res_df = res_df.append(min_val, ignore_index=True)\n",
    "        \n",
    "    return res_df\n",
    "        \n",
    "        "
   ]
  },
  {
   "cell_type": "code",
   "execution_count": 13,
   "id": "subsequent-kingston",
   "metadata": {},
   "outputs": [],
   "source": [
    "df_fast_lap_2 = get_fastest_laps(df_fast_lap)"
   ]
  },
  {
   "cell_type": "code",
   "execution_count": 14,
   "id": "ordinary-viking",
   "metadata": {},
   "outputs": [],
   "source": [
    "def get_lap_seconds(x):\n",
    "    \n",
    "    time_obj = dt.strptime(x,'%M:%S.%f')\n",
    "    time_delta = time_obj - dt(1900, 1, 1)\n",
    "    seconds = time_delta.total_seconds()\n",
    "    return seconds"
   ]
  },
  {
   "cell_type": "code",
   "execution_count": 15,
   "id": "cardiac-consensus",
   "metadata": {},
   "outputs": [],
   "source": [
    "df_fast_lap_2['fastestLapSeconds'] = df_fast_lap_2['fastestLapTime'].apply(get_lap_seconds)"
   ]
  },
  {
   "cell_type": "code",
   "execution_count": 16,
   "id": "terminal-accused",
   "metadata": {},
   "outputs": [
    {
     "data": {
      "text/html": [
       "<div>\n",
       "<style scoped>\n",
       "    .dataframe tbody tr th:only-of-type {\n",
       "        vertical-align: middle;\n",
       "    }\n",
       "\n",
       "    .dataframe tbody tr th {\n",
       "        vertical-align: top;\n",
       "    }\n",
       "\n",
       "    .dataframe thead th {\n",
       "        text-align: right;\n",
       "    }\n",
       "</style>\n",
       "<table border=\"1\" class=\"dataframe\">\n",
       "  <thead>\n",
       "    <tr style=\"text-align: right;\">\n",
       "      <th></th>\n",
       "      <th>year</th>\n",
       "      <th>raceId</th>\n",
       "      <th>race_name</th>\n",
       "      <th>circuit_name</th>\n",
       "      <th>forename</th>\n",
       "      <th>surname</th>\n",
       "      <th>name</th>\n",
       "      <th>fastestLap</th>\n",
       "      <th>fastestLapTime</th>\n",
       "      <th>fastestLapSeconds</th>\n",
       "    </tr>\n",
       "  </thead>\n",
       "  <tbody>\n",
       "    <tr>\n",
       "      <th>0</th>\n",
       "      <td>2008</td>\n",
       "      <td>18</td>\n",
       "      <td>Australian Grand Prix</td>\n",
       "      <td>Albert Park Grand Prix Circuit</td>\n",
       "      <td>Heikki</td>\n",
       "      <td>Kovalainen</td>\n",
       "      <td>McLaren</td>\n",
       "      <td>43.0</td>\n",
       "      <td>01:27.4</td>\n",
       "      <td>87.4</td>\n",
       "    </tr>\n",
       "    <tr>\n",
       "      <th>1</th>\n",
       "      <td>2008</td>\n",
       "      <td>19</td>\n",
       "      <td>Malaysian Grand Prix</td>\n",
       "      <td>Sepang International Circuit</td>\n",
       "      <td>Nick</td>\n",
       "      <td>Heidfeld</td>\n",
       "      <td>BMW Sauber</td>\n",
       "      <td>55.0</td>\n",
       "      <td>01:35.4</td>\n",
       "      <td>95.4</td>\n",
       "    </tr>\n",
       "    <tr>\n",
       "      <th>2</th>\n",
       "      <td>2008</td>\n",
       "      <td>19</td>\n",
       "      <td>Malaysian Grand Prix</td>\n",
       "      <td>Sepang International Circuit</td>\n",
       "      <td>Kimi</td>\n",
       "      <td>R�_ikk̦nen</td>\n",
       "      <td>Ferrari</td>\n",
       "      <td>37.0</td>\n",
       "      <td>01:35.4</td>\n",
       "      <td>95.4</td>\n",
       "    </tr>\n",
       "    <tr>\n",
       "      <th>3</th>\n",
       "      <td>2008</td>\n",
       "      <td>21</td>\n",
       "      <td>Spanish Grand Prix</td>\n",
       "      <td>Circuit de Barcelona-Catalunya</td>\n",
       "      <td>Kimi</td>\n",
       "      <td>R�_ikk̦nen</td>\n",
       "      <td>Ferrari</td>\n",
       "      <td>46.0</td>\n",
       "      <td>01:21.7</td>\n",
       "      <td>81.7</td>\n",
       "    </tr>\n",
       "    <tr>\n",
       "      <th>4</th>\n",
       "      <td>2008</td>\n",
       "      <td>22</td>\n",
       "      <td>Turkish Grand Prix</td>\n",
       "      <td>Istanbul Park</td>\n",
       "      <td>Lewis</td>\n",
       "      <td>Hamilton</td>\n",
       "      <td>McLaren</td>\n",
       "      <td>31.0</td>\n",
       "      <td>01:26.5</td>\n",
       "      <td>86.5</td>\n",
       "    </tr>\n",
       "    <tr>\n",
       "      <th>...</th>\n",
       "      <td>...</td>\n",
       "      <td>...</td>\n",
       "      <td>...</td>\n",
       "      <td>...</td>\n",
       "      <td>...</td>\n",
       "      <td>...</td>\n",
       "      <td>...</td>\n",
       "      <td>...</td>\n",
       "      <td>...</td>\n",
       "      <td>...</td>\n",
       "    </tr>\n",
       "    <tr>\n",
       "      <th>297</th>\n",
       "      <td>2004</td>\n",
       "      <td>98</td>\n",
       "      <td>United States Grand Prix</td>\n",
       "      <td>Indianapolis Motor Speedway</td>\n",
       "      <td>Rubens</td>\n",
       "      <td>Barrichello</td>\n",
       "      <td>Ferrari</td>\n",
       "      <td>7.0</td>\n",
       "      <td>01:10.4</td>\n",
       "      <td>70.4</td>\n",
       "    </tr>\n",
       "    <tr>\n",
       "      <th>298</th>\n",
       "      <td>2004</td>\n",
       "      <td>98</td>\n",
       "      <td>United States Grand Prix</td>\n",
       "      <td>Indianapolis Motor Speedway</td>\n",
       "      <td>Michael</td>\n",
       "      <td>Schumacher</td>\n",
       "      <td>Ferrari</td>\n",
       "      <td>8.0</td>\n",
       "      <td>01:10.4</td>\n",
       "      <td>70.4</td>\n",
       "    </tr>\n",
       "    <tr>\n",
       "      <th>299</th>\n",
       "      <td>2005</td>\n",
       "      <td>79</td>\n",
       "      <td>United States Grand Prix</td>\n",
       "      <td>Indianapolis Motor Speedway</td>\n",
       "      <td>Michael</td>\n",
       "      <td>Schumacher</td>\n",
       "      <td>Ferrari</td>\n",
       "      <td>48.0</td>\n",
       "      <td>01:11.5</td>\n",
       "      <td>71.5</td>\n",
       "    </tr>\n",
       "    <tr>\n",
       "      <th>300</th>\n",
       "      <td>2004</td>\n",
       "      <td>97</td>\n",
       "      <td>Canadian Grand Prix</td>\n",
       "      <td>Circuit Gilles Villeneuve</td>\n",
       "      <td>Rubens</td>\n",
       "      <td>Barrichello</td>\n",
       "      <td>Ferrari</td>\n",
       "      <td>68.0</td>\n",
       "      <td>01:13.6</td>\n",
       "      <td>73.6</td>\n",
       "    </tr>\n",
       "    <tr>\n",
       "      <th>301</th>\n",
       "      <td>2004</td>\n",
       "      <td>97</td>\n",
       "      <td>Canadian Grand Prix</td>\n",
       "      <td>Circuit Gilles Villeneuve</td>\n",
       "      <td>Michael</td>\n",
       "      <td>Schumacher</td>\n",
       "      <td>Ferrari</td>\n",
       "      <td>18.0</td>\n",
       "      <td>01:13.6</td>\n",
       "      <td>73.6</td>\n",
       "    </tr>\n",
       "  </tbody>\n",
       "</table>\n",
       "<p>302 rows × 10 columns</p>\n",
       "</div>"
      ],
      "text/plain": [
       "     year raceId                 race_name                    circuit_name  \\\n",
       "0    2008     18     Australian Grand Prix  Albert Park Grand Prix Circuit   \n",
       "1    2008     19      Malaysian Grand Prix    Sepang International Circuit   \n",
       "2    2008     19      Malaysian Grand Prix    Sepang International Circuit   \n",
       "3    2008     21        Spanish Grand Prix  Circuit de Barcelona-Catalunya   \n",
       "4    2008     22        Turkish Grand Prix                   Istanbul Park   \n",
       "..    ...    ...                       ...                             ...   \n",
       "297  2004     98  United States Grand Prix     Indianapolis Motor Speedway   \n",
       "298  2004     98  United States Grand Prix     Indianapolis Motor Speedway   \n",
       "299  2005     79  United States Grand Prix     Indianapolis Motor Speedway   \n",
       "300  2004     97       Canadian Grand Prix       Circuit Gilles Villeneuve   \n",
       "301  2004     97       Canadian Grand Prix       Circuit Gilles Villeneuve   \n",
       "\n",
       "    forename      surname        name  fastestLap fastestLapTime  \\\n",
       "0     Heikki   Kovalainen     McLaren        43.0        01:27.4   \n",
       "1       Nick     Heidfeld  BMW Sauber        55.0        01:35.4   \n",
       "2       Kimi   R�_ikk̦nen     Ferrari        37.0        01:35.4   \n",
       "3       Kimi   R�_ikk̦nen     Ferrari        46.0        01:21.7   \n",
       "4      Lewis     Hamilton     McLaren        31.0        01:26.5   \n",
       "..       ...          ...         ...         ...            ...   \n",
       "297   Rubens  Barrichello     Ferrari         7.0        01:10.4   \n",
       "298  Michael   Schumacher     Ferrari         8.0        01:10.4   \n",
       "299  Michael   Schumacher     Ferrari        48.0        01:11.5   \n",
       "300   Rubens  Barrichello     Ferrari        68.0        01:13.6   \n",
       "301  Michael   Schumacher     Ferrari        18.0        01:13.6   \n",
       "\n",
       "     fastestLapSeconds  \n",
       "0                 87.4  \n",
       "1                 95.4  \n",
       "2                 95.4  \n",
       "3                 81.7  \n",
       "4                 86.5  \n",
       "..                 ...  \n",
       "297               70.4  \n",
       "298               70.4  \n",
       "299               71.5  \n",
       "300               73.6  \n",
       "301               73.6  \n",
       "\n",
       "[302 rows x 10 columns]"
      ]
     },
     "execution_count": 16,
     "metadata": {},
     "output_type": "execute_result"
    }
   ],
   "source": [
    "df_fast_lap_2"
   ]
  },
  {
   "cell_type": "code",
   "execution_count": 18,
   "id": "guided-friend",
   "metadata": {},
   "outputs": [
    {
     "data": {
      "application/vnd.plotly.v1+json": {
       "config": {
        "plotlyServerURL": "https://plot.ly"
       },
       "data": [
        {
         "customdata": [
          [
           "Australian Grand Prix",
           "Kovalainen",
           "McLaren"
          ],
          [
           "Australian Grand Prix",
           "R�_ikk̦nen",
           "Ferrari"
          ],
          [
           "Australian Grand Prix",
           "Webber",
           "Red Bull"
          ],
          [
           "Australian Grand Prix",
           "Massa",
           "Ferrari"
          ],
          [
           "Australian Grand Prix",
           "Button",
           "McLaren"
          ],
          [
           "Australian Grand Prix",
           "R�_ikk̦nen",
           "McLaren"
          ],
          [
           "Australian Grand Prix",
           "Alonso",
           "Renault"
          ],
          [
           "Australian Grand Prix",
           "R�_ikk̦nen",
           "Lotus F1"
          ],
          [
           "Australian Grand Prix",
           "Rosberg",
           "Mercedes"
          ],
          [
           "Australian Grand Prix",
           "Hamilton",
           "Mercedes"
          ],
          [
           "Australian Grand Prix",
           "Ricciardo",
           "Red Bull"
          ],
          [
           "Australian Grand Prix",
           "R�_ikk̦nen",
           "Ferrari"
          ],
          [
           "Australian Grand Prix",
           "Rosberg",
           "Williams"
          ],
          [
           "Australian Grand Prix",
           "Schumacher",
           "Ferrari"
          ]
         ],
         "hovertemplate": "circuit_name=Albert Park Grand Prix Circuit<br>year=%{x}<br>fastestLapSeconds=%{y}<br>race_name=%{customdata[0]}<br>surname=%{customdata[1]}<br>name=%{customdata[2]}<extra></extra>",
         "legendgroup": "Albert Park Grand Prix Circuit",
         "line": {
          "color": "#636efa",
          "dash": "solid"
         },
         "marker": {
          "symbol": "circle"
         },
         "mode": "lines",
         "name": "Albert Park Grand Prix Circuit",
         "orientation": "v",
         "showlegend": true,
         "type": "scatter",
         "x": [
          2008,
          2007,
          2010,
          2011,
          2012,
          2006,
          2005,
          2013,
          2014,
          2015,
          2016,
          2017,
          2009,
          2004
         ],
         "xaxis": "x",
         "y": [
          87.4,
          85.2,
          88.4,
          88.9,
          89.2,
          86,
          85.7,
          89.3,
          92.5,
          90.9,
          89,
          86.5,
          87.7,
          84.1
         ],
         "yaxis": "y"
        },
        {
         "customdata": [
          [
           "Malaysian Grand Prix",
           "Heidfeld",
           "BMW Sauber"
          ],
          [
           "Malaysian Grand Prix",
           "R�_ikk̦nen",
           "Ferrari"
          ],
          [
           "Malaysian Grand Prix",
           "Hamilton",
           "McLaren"
          ],
          [
           "Malaysian Grand Prix",
           "Button",
           "Brawn"
          ],
          [
           "Malaysian Grand Prix",
           "Webber",
           "Red Bull"
          ],
          [
           "Malaysian Grand Prix",
           "Webber",
           "Red Bull"
          ],
          [
           "Malaysian Grand Prix",
           "R�_ikk̦nen",
           "Lotus F1"
          ],
          [
           "Malaysian Grand Prix",
           "Rosberg",
           "Mercedes"
          ],
          [
           "Malaysian Grand Prix",
           "R�_ikk̦nen",
           "McLaren"
          ],
          [
           "Malaysian Grand Prix",
           "Pablo Montoya",
           "Williams"
          ],
          [
           "Malaysian Grand Prix",
           "Hamilton",
           "Mercedes"
          ],
          [
           "Malaysian Grand Prix",
           "Alonso",
           "Renault"
          ],
          [
           "Malaysian Grand Prix",
           "P̩rez",
           "McLaren"
          ],
          [
           "Malaysian Grand Prix",
           "Rosberg",
           "Mercedes"
          ],
          [
           "Malaysian Grand Prix",
           "Vettel",
           "Ferrari"
          ]
         ],
         "hovertemplate": "circuit_name=Sepang International Circuit<br>year=%{x}<br>fastestLapSeconds=%{y}<br>race_name=%{customdata[0]}<br>surname=%{customdata[1]}<br>name=%{customdata[2]}<extra></extra>",
         "legendgroup": "Sepang International Circuit",
         "line": {
          "color": "#EF553B",
          "dash": "solid"
         },
         "marker": {
          "symbol": "circle"
         },
         "mode": "lines",
         "name": "Sepang International Circuit",
         "orientation": "v",
         "showlegend": true,
         "type": "scatter",
         "x": [
          2008,
          2008,
          2007,
          2009,
          2010,
          2011,
          2012,
          2016,
          2005,
          2004,
          2014,
          2006,
          2013,
          2015,
          2017
         ],
         "xaxis": "x",
         "y": [
          95.4,
          95.4,
          96.7,
          96.6,
          97.1,
          100.6,
          100.7,
          96.4,
          95.5,
          94.2,
          103.1,
          94.8,
          99.2,
          102.1,
          94.1
         ],
         "yaxis": "y"
        },
        {
         "customdata": [
          [
           "Spanish Grand Prix",
           "R�_ikk̦nen",
           "Ferrari"
          ],
          [
           "Spanish Grand Prix",
           "Massa",
           "Ferrari"
          ],
          [
           "Spanish Grand Prix",
           "Hamilton",
           "McLaren"
          ],
          [
           "Spanish Grand Prix",
           "Grosjean",
           "Lotus F1"
          ],
          [
           "Spanish Grand Prix",
           "Massa",
           "Ferrari"
          ],
          [
           "Spanish Grand Prix",
           "Fisichella",
           "Renault"
          ],
          [
           "Spanish Grand Prix",
           "Schumacher",
           "Ferrari"
          ],
          [
           "Spanish Grand Prix",
           "Hamilton",
           "McLaren"
          ],
          [
           "Spanish Grand Prix",
           "Guti̩rrez",
           "Sauber"
          ],
          [
           "Spanish Grand Prix",
           "Vettel",
           "Red Bull"
          ],
          [
           "Spanish Grand Prix",
           "Hamilton",
           "Mercedes"
          ],
          [
           "Spanish Grand Prix",
           "Hamilton",
           "Mercedes"
          ],
          [
           "Spanish Grand Prix",
           "Barrichello",
           "Brawn"
          ],
          [
           "Spanish Grand Prix",
           "Kvyat",
           "Toro Rosso"
          ],
          [
           "Spanish Grand Prix",
           "Schumacher",
           "Ferrari"
          ],
          [
           "Spanish Grand Prix",
           "Button",
           "BAR"
          ]
         ],
         "hovertemplate": "circuit_name=Circuit de Barcelona-Catalunya<br>year=%{x}<br>fastestLapSeconds=%{y}<br>race_name=%{customdata[0]}<br>surname=%{customdata[1]}<br>name=%{customdata[2]}<extra></extra>",
         "legendgroup": "Circuit de Barcelona-Catalunya",
         "line": {
          "color": "#00cc96",
          "dash": "solid"
         },
         "marker": {
          "symbol": "circle"
         },
         "mode": "lines",
         "name": "Circuit de Barcelona-Catalunya",
         "orientation": "v",
         "showlegend": true,
         "type": "scatter",
         "x": [
          2008,
          2007,
          2011,
          2012,
          2006,
          2005,
          2005,
          2010,
          2013,
          2014,
          2015,
          2017,
          2009,
          2016,
          2004,
          2004
         ],
         "xaxis": "x",
         "y": [
          81.7,
          82.7,
          86.7,
          86.3,
          76.6,
          75.6,
          75.6,
          84.4,
          86.2,
          88.9,
          88.3,
          83.6,
          82.8,
          86.9,
          77.5,
          77.5
         ],
         "yaxis": "y"
        },
        {
         "customdata": [
          [
           "Turkish Grand Prix",
           "Hamilton",
           "McLaren"
          ],
          [
           "Turkish Grand Prix",
           "R�_ikk̦nen",
           "Ferrari"
          ],
          [
           "Turkish Grand Prix",
           "R�_ikk̦nen",
           "Ferrari"
          ],
          [
           "Turkish Grand Prix",
           "Vettel",
           "Red Bull"
          ],
          [
           "Turkish Grand Prix",
           "Button",
           "Brawn"
          ],
          [
           "Turkish Grand Prix",
           "Webber",
           "Red Bull"
          ],
          [
           "Turkish Grand Prix",
           "Petrov",
           "Renault"
          ],
          [
           "Turkish Grand Prix",
           "Webber",
           "Red Bull"
          ],
          [
           "Turkish Grand Prix",
           "Pablo Montoya",
           "McLaren"
          ],
          [
           "Turkish Grand Prix",
           "Schumacher",
           "Ferrari"
          ]
         ],
         "hovertemplate": "circuit_name=Istanbul Park<br>year=%{x}<br>fastestLapSeconds=%{y}<br>race_name=%{customdata[0]}<br>surname=%{customdata[1]}<br>name=%{customdata[2]}<extra></extra>",
         "legendgroup": "Istanbul Park",
         "line": {
          "color": "#ab63fa",
          "dash": "solid"
         },
         "marker": {
          "symbol": "circle"
         },
         "mode": "lines",
         "name": "Istanbul Park",
         "orientation": "v",
         "showlegend": true,
         "type": "scatter",
         "x": [
          2008,
          2008,
          2007,
          2009,
          2009,
          2010,
          2010,
          2011,
          2005,
          2006
         ],
         "xaxis": "x",
         "y": [
          86.5,
          86.5,
          87.3,
          87.6,
          87.6,
          89.2,
          89.2,
          89.7,
          84.8,
          88
         ],
         "yaxis": "y"
        },
        {
         "customdata": [
          [
           "Monaco Grand Prix",
           "R�_ikk̦nen",
           "Ferrari"
          ],
          [
           "Monaco Grand Prix",
           "Alonso",
           "McLaren"
          ],
          [
           "Monaco Grand Prix",
           "Vettel",
           "Red Bull"
          ],
          [
           "Monaco Grand Prix",
           "Webber",
           "Red Bull"
          ],
          [
           "Monaco Grand Prix",
           "P̩rez",
           "Sauber"
          ],
          [
           "Monaco Grand Prix",
           "Hamilton",
           "Mercedes"
          ],
          [
           "Monaco Grand Prix",
           "Schumacher",
           "Ferrari"
          ],
          [
           "Monaco Grand Prix",
           "Vettel",
           "Red Bull"
          ],
          [
           "Monaco Grand Prix",
           "Ricciardo",
           "Red Bull"
          ],
          [
           "Monaco Grand Prix",
           "Schumacher",
           "Ferrari"
          ],
          [
           "Monaco Grand Prix",
           "R�_ikk̦nen",
           "Ferrari"
          ],
          [
           "Monaco Grand Prix",
           "P̩rez",
           "Force India"
          ],
          [
           "Monaco Grand Prix",
           "Massa",
           "Ferrari"
          ],
          [
           "Monaco Grand Prix",
           "Button",
           "Brawn"
          ],
          [
           "Monaco Grand Prix",
           "Schumacher",
           "Ferrari"
          ]
         ],
         "hovertemplate": "circuit_name=Circuit de Monaco<br>year=%{x}<br>fastestLapSeconds=%{y}<br>race_name=%{customdata[0]}<br>surname=%{customdata[1]}<br>name=%{customdata[2]}<extra></extra>",
         "legendgroup": "Circuit de Monaco",
         "line": {
          "color": "#FFA15A",
          "dash": "solid"
         },
         "marker": {
          "symbol": "circle"
         },
         "mode": "lines",
         "name": "Circuit de Monaco",
         "orientation": "v",
         "showlegend": true,
         "type": "scatter",
         "x": [
          2008,
          2007,
          2010,
          2011,
          2012,
          2016,
          2005,
          2013,
          2015,
          2006,
          2014,
          2017,
          2009,
          2009,
          2004
         ],
         "xaxis": "x",
         "y": [
          76.7,
          75.3,
          75.2,
          76.2,
          77.3,
          77.9,
          75.8,
          76.6,
          78.1,
          75.1,
          78.5,
          74.8,
          75.2,
          75.2,
          74.4
         ],
         "yaxis": "y"
        },
        {
         "customdata": [
          [
           "French Grand Prix",
           "R�_ikk̦nen",
           "Ferrari"
          ],
          [
           "French Grand Prix",
           "Massa",
           "Ferrari"
          ],
          [
           "French Grand Prix",
           "Massa",
           "Ferrari"
          ],
          [
           "French Grand Prix",
           "Schumacher",
           "Ferrari"
          ],
          [
           "French Grand Prix",
           "R�_ikk̦nen",
           "McLaren"
          ],
          [
           "French Grand Prix",
           "Schumacher",
           "Ferrari"
          ]
         ],
         "hovertemplate": "circuit_name=Circuit de Nevers Magny-Cours<br>year=%{x}<br>fastestLapSeconds=%{y}<br>race_name=%{customdata[0]}<br>surname=%{customdata[1]}<br>name=%{customdata[2]}<extra></extra>",
         "legendgroup": "Circuit de Nevers Magny-Cours",
         "line": {
          "color": "#19d3f3",
          "dash": "solid"
         },
         "marker": {
          "symbol": "circle"
         },
         "mode": "lines",
         "name": "Circuit de Nevers Magny-Cours",
         "orientation": "v",
         "showlegend": true,
         "type": "scatter",
         "x": [
          2008,
          2007,
          2006,
          2006,
          2005,
          2004
         ],
         "xaxis": "x",
         "y": [
          76.6,
          76.1,
          77.1,
          77.1,
          76.4,
          75.4
         ],
         "yaxis": "y"
        },
        {
         "customdata": [
          [
           "British Grand Prix",
           "R�_ikk̦nen",
           "Ferrari"
          ],
          [
           "British Grand Prix",
           "R�_ikk̦nen",
           "Ferrari"
          ],
          [
           "British Grand Prix",
           "Alonso",
           "Ferrari"
          ],
          [
           "British Grand Prix",
           "Alonso",
           "Ferrari"
          ],
          [
           "British Grand Prix",
           "R�_ikk̦nen",
           "Lotus F1"
          ],
          [
           "British Grand Prix",
           "Alonso",
           "Renault"
          ],
          [
           "British Grand Prix",
           "R�_ikk̦nen",
           "McLaren"
          ],
          [
           "British Grand Prix",
           "Schumacher",
           "Ferrari"
          ],
          [
           "British Grand Prix",
           "Webber",
           "Red Bull"
          ],
          [
           "British Grand Prix",
           "Hamilton",
           "Mercedes"
          ],
          [
           "British Grand Prix",
           "Hamilton",
           "Mercedes"
          ],
          [
           "British Grand Prix",
           "Rosberg",
           "Mercedes"
          ],
          [
           "British Grand Prix",
           "Hamilton",
           "Mercedes"
          ],
          [
           "British Grand Prix",
           "Vettel",
           "Red Bull"
          ]
         ],
         "hovertemplate": "circuit_name=Silverstone Circuit<br>year=%{x}<br>fastestLapSeconds=%{y}<br>race_name=%{customdata[0]}<br>surname=%{customdata[1]}<br>name=%{customdata[2]}<extra></extra>",
         "legendgroup": "Silverstone Circuit",
         "line": {
          "color": "#FF6692",
          "dash": "solid"
         },
         "marker": {
          "symbol": "circle"
         },
         "mode": "lines",
         "name": "Silverstone Circuit",
         "orientation": "v",
         "showlegend": true,
         "type": "scatter",
         "x": [
          2008,
          2007,
          2010,
          2011,
          2012,
          2006,
          2005,
          2004,
          2013,
          2014,
          2015,
          2016,
          2017,
          2009
         ],
         "xaxis": "x",
         "y": [
          92.1,
          80.6,
          90.9,
          94.9,
          94.7,
          81.6,
          80.5,
          78.7,
          93.4,
          97.2,
          97.1,
          95.5,
          90.6,
          80.7
         ],
         "yaxis": "y"
        },
        {
         "customdata": [
          [
           "German Grand Prix",
           "Hamilton",
           "McLaren"
          ],
          [
           "German Grand Prix",
           "Heidfeld",
           "BMW Sauber"
          ],
          [
           "German Grand Prix",
           "Vettel",
           "Red Bull"
          ],
          [
           "German Grand Prix",
           "Massa",
           "Ferrari"
          ],
          [
           "German Grand Prix",
           "Schumacher",
           "Ferrari"
          ],
          [
           "German Grand Prix",
           "Schumacher",
           "Ferrari"
          ],
          [
           "German Grand Prix",
           "R�_ikk̦nen",
           "McLaren"
          ],
          [
           "German Grand Prix",
           "Schumacher",
           "Mercedes"
          ],
          [
           "German Grand Prix",
           "Hamilton",
           "Mercedes"
          ],
          [
           "German Grand Prix",
           "R�_ikk̦nen",
           "McLaren"
          ],
          [
           "German Grand Prix",
           "Ricciardo",
           "Red Bull"
          ]
         ],
         "hovertemplate": "circuit_name=Hockenheimring<br>year=%{x}<br>fastestLapSeconds=%{y}<br>race_name=%{customdata[0]}<br>surname=%{customdata[1]}<br>name=%{customdata[2]}<extra></extra>",
         "legendgroup": "Hockenheimring",
         "line": {
          "color": "#B6E880",
          "dash": "solid"
         },
         "marker": {
          "symbol": "circle"
         },
         "mode": "lines",
         "name": "Hockenheimring",
         "orientation": "v",
         "showlegend": true,
         "type": "scatter",
         "x": [
          2008,
          2008,
          2010,
          2006,
          2006,
          2004,
          2004,
          2012,
          2014,
          2005,
          2016
         ],
         "xaxis": "x",
         "y": [
          76,
          76,
          75.8,
          76.4,
          76.4,
          73.8,
          73.8,
          78.7,
          79.9,
          74.9,
          78.4
         ],
         "yaxis": "y"
        },
        {
         "customdata": [
          [
           "Hungarian Grand Prix",
           "R�_ikk̦nen",
           "Ferrari"
          ],
          [
           "Hungarian Grand Prix",
           "R�_ikk̦nen",
           "Ferrari"
          ],
          [
           "Hungarian Grand Prix",
           "Webber",
           "Red Bull"
          ],
          [
           "Hungarian Grand Prix",
           "Massa",
           "Ferrari"
          ],
          [
           "Hungarian Grand Prix",
           "Vettel",
           "Red Bull"
          ],
          [
           "Hungarian Grand Prix",
           "Ricciardo",
           "Red Bull"
          ],
          [
           "Hungarian Grand Prix",
           "Alonso",
           "McLaren"
          ],
          [
           "Hungarian Grand Prix",
           "R�_ikk̦nen",
           "McLaren"
          ],
          [
           "Hungarian Grand Prix",
           "Pablo Montoya",
           "McLaren"
          ],
          [
           "Hungarian Grand Prix",
           "Webber",
           "Red Bull"
          ],
          [
           "Hungarian Grand Prix",
           "Rosberg",
           "Mercedes"
          ],
          [
           "Hungarian Grand Prix",
           "Massa",
           "Ferrari"
          ],
          [
           "Hungarian Grand Prix",
           "R�_ikk̦nen",
           "Ferrari"
          ],
          [
           "Hungarian Grand Prix",
           "Schumacher",
           "Ferrari"
          ],
          [
           "Hungarian Grand Prix",
           "Vettel",
           "Red Bull"
          ]
         ],
         "hovertemplate": "circuit_name=Hungaroring<br>year=%{x}<br>fastestLapSeconds=%{y}<br>race_name=%{customdata[0]}<br>surname=%{customdata[1]}<br>name=%{customdata[2]}<extra></extra>",
         "legendgroup": "Hungaroring",
         "line": {
          "color": "#FF97FF",
          "dash": "solid"
         },
         "marker": {
          "symbol": "circle"
         },
         "mode": "lines",
         "name": "Hungaroring",
         "orientation": "v",
         "showlegend": true,
         "type": "scatter",
         "x": [
          2008,
          2007,
          2009,
          2011,
          2012,
          2015,
          2017,
          2005,
          2005,
          2013,
          2014,
          2006,
          2016,
          2004,
          2010
         ],
         "xaxis": "x",
         "y": [
          81.2,
          80,
          81.9,
          83.4,
          84.1,
          84.8,
          80.2,
          81.2,
          81.2,
          84.1,
          85.7,
          83.5,
          83.1,
          79.1,
          82.4
         ],
         "yaxis": "y"
        },
        {
         "customdata": [
          [
           "European Grand Prix",
           "Massa",
           "Ferrari"
          ],
          [
           "European Grand Prix",
           "Glock",
           "Toyota"
          ],
          [
           "European Grand Prix",
           "Button",
           "McLaren"
          ],
          [
           "European Grand Prix",
           "Vettel",
           "Red Bull"
          ],
          [
           "European Grand Prix",
           "Rosberg",
           "Mercedes"
          ]
         ],
         "hovertemplate": "circuit_name=Valencia Street Circuit<br>year=%{x}<br>fastestLapSeconds=%{y}<br>race_name=%{customdata[0]}<br>surname=%{customdata[1]}<br>name=%{customdata[2]}<extra></extra>",
         "legendgroup": "Valencia Street Circuit",
         "line": {
          "color": "#FECB52",
          "dash": "solid"
         },
         "marker": {
          "symbol": "circle"
         },
         "mode": "lines",
         "name": "Valencia Street Circuit",
         "orientation": "v",
         "showlegend": true,
         "type": "scatter",
         "x": [
          2008,
          2009,
          2010,
          2011,
          2012
         ],
         "xaxis": "x",
         "y": [
          98.7,
          98.7,
          98.8,
          101.9,
          102.2
         ],
         "yaxis": "y"
        },
        {
         "customdata": [
          [
           "Belgian Grand Prix",
           "R�_ikk̦nen",
           "Ferrari"
          ],
          [
           "Belgian Grand Prix",
           "Massa",
           "Ferrari"
          ],
          [
           "Belgian Grand Prix",
           "Hamilton",
           "McLaren"
          ],
          [
           "Belgian Grand Prix",
           "Hamilton",
           "Mercedes"
          ],
          [
           "Belgian Grand Prix",
           "Vettel",
           "Red Bull"
          ],
          [
           "Belgian Grand Prix",
           "Schumacher",
           "Toyota"
          ],
          [
           "Belgian Grand Prix",
           "R�_ikk̦nen",
           "McLaren"
          ],
          [
           "Belgian Grand Prix",
           "Webber",
           "Red Bull"
          ],
          [
           "Belgian Grand Prix",
           "Senna",
           "Williams"
          ],
          [
           "Belgian Grand Prix",
           "Button",
           "McLaren"
          ],
          [
           "Belgian Grand Prix",
           "Vettel",
           "Red Bull"
          ],
          [
           "Belgian Grand Prix",
           "Rosberg",
           "Mercedes"
          ],
          [
           "Belgian Grand Prix",
           "Hamilton",
           "Mercedes"
          ],
          [
           "Belgian Grand Prix",
           "Vettel",
           "Ferrari"
          ],
          [
           "Belgian Grand Prix",
           "Rosberg",
           "Mercedes"
          ]
         ],
         "hovertemplate": "circuit_name=Circuit de Spa-Francorchamps<br>year=%{x}<br>fastestLapSeconds=%{y}<br>race_name=%{customdata[0]}<br>surname=%{customdata[1]}<br>name=%{customdata[2]}<extra></extra>",
         "legendgroup": "Circuit de Spa-Francorchamps",
         "line": {
          "color": "#636efa",
          "dash": "solid"
         },
         "marker": {
          "symbol": "circle"
         },
         "mode": "lines",
         "name": "Circuit de Spa-Francorchamps",
         "orientation": "v",
         "showlegend": true,
         "type": "scatter",
         "x": [
          2008,
          2007,
          2010,
          2016,
          2009,
          2005,
          2004,
          2011,
          2012,
          2013,
          2013,
          2014,
          2017,
          2017,
          2015
         ],
         "xaxis": "x",
         "y": [
          107.9,
          108,
          109.1,
          111.6,
          107.3,
          111.5,
          105.1,
          109.9,
          112.8,
          110.8,
          110.8,
          110.5,
          106.6,
          106.6,
          112.4
         ],
         "yaxis": "y"
        },
        {
         "customdata": [
          [
           "Italian Grand Prix",
           "R�_ikk̦nen",
           "Ferrari"
          ],
          [
           "Italian Grand Prix",
           "Hamilton",
           "McLaren"
          ],
          [
           "Italian Grand Prix",
           "Alonso",
           "McLaren"
          ],
          [
           "Italian Grand Prix",
           "Hamilton",
           "McLaren"
          ],
          [
           "Italian Grand Prix",
           "Button",
           "McLaren"
          ],
          [
           "Italian Grand Prix",
           "Rosberg",
           "Mercedes"
          ],
          [
           "Italian Grand Prix",
           "Sutil",
           "Force India"
          ],
          [
           "Italian Grand Prix",
           "R�_ikk̦nen",
           "McLaren"
          ],
          [
           "Italian Grand Prix",
           "Schumacher",
           "Ferrari"
          ],
          [
           "Italian Grand Prix",
           "R�_ikk̦nen",
           "McLaren"
          ],
          [
           "Italian Grand Prix",
           "Barrichello",
           "Ferrari"
          ],
          [
           "Italian Grand Prix",
           "Alonso",
           "Ferrari"
          ],
          [
           "Italian Grand Prix",
           "Hamilton",
           "Mercedes"
          ],
          [
           "Italian Grand Prix",
           "Hamilton",
           "Mercedes"
          ],
          [
           "Italian Grand Prix",
           "Hamilton",
           "Mercedes"
          ],
          [
           "Italian Grand Prix",
           "Alonso",
           "McLaren"
          ],
          [
           "Italian Grand Prix",
           "Ricciardo",
           "Red Bull"
          ]
         ],
         "hovertemplate": "circuit_name=Autodromo Nazionale di Monza<br>year=%{x}<br>fastestLapSeconds=%{y}<br>race_name=%{customdata[0]}<br>surname=%{customdata[1]}<br>name=%{customdata[2]}<extra></extra>",
         "legendgroup": "Autodromo Nazionale di Monza",
         "line": {
          "color": "#EF553B",
          "dash": "solid"
         },
         "marker": {
          "symbol": "circle"
         },
         "mode": "lines",
         "name": "Autodromo Nazionale di Monza",
         "orientation": "v",
         "showlegend": true,
         "type": "scatter",
         "x": [
          2008,
          2007,
          2007,
          2011,
          2011,
          2012,
          2009,
          2006,
          2006,
          2005,
          2004,
          2010,
          2013,
          2014,
          2015,
          2016,
          2017
         ],
         "xaxis": "x",
         "y": [
          88,
          82.9,
          82.9,
          86.2,
          86.2,
          87.2,
          84.7,
          82.6,
          82.6,
          81.5,
          81,
          84.1,
          85.8,
          88,
          86.7,
          85.3,
          83.4
         ],
         "yaxis": "y"
        },
        {
         "customdata": [
          [
           "Singapore Grand Prix",
           "R�_ikk̦nen",
           "Ferrari"
          ],
          [
           "Singapore Grand Prix",
           "Alonso",
           "Renault"
          ],
          [
           "Singapore Grand Prix",
           "Button",
           "McLaren"
          ],
          [
           "Singapore Grand Prix",
           "Ricciardo",
           "Red Bull"
          ],
          [
           "Singapore Grand Prix",
           "Alonso",
           "Ferrari"
          ],
          [
           "Singapore Grand Prix",
           "H�_lkenberg",
           "Force India"
          ],
          [
           "Singapore Grand Prix",
           "Vettel",
           "Red Bull"
          ],
          [
           "Singapore Grand Prix",
           "Hamilton",
           "Mercedes"
          ],
          [
           "Singapore Grand Prix",
           "Hamilton",
           "Mercedes"
          ],
          [
           "Singapore Grand Prix",
           "Ricciardo",
           "Red Bull"
          ]
         ],
         "hovertemplate": "circuit_name=Marina Bay Street Circuit<br>year=%{x}<br>fastestLapSeconds=%{y}<br>race_name=%{customdata[0]}<br>surname=%{customdata[1]}<br>name=%{customdata[2]}<extra></extra>",
         "legendgroup": "Marina Bay Street Circuit",
         "line": {
          "color": "#00cc96",
          "dash": "solid"
         },
         "marker": {
          "symbol": "circle"
         },
         "mode": "lines",
         "name": "Marina Bay Street Circuit",
         "orientation": "v",
         "showlegend": true,
         "type": "scatter",
         "x": [
          2008,
          2009,
          2011,
          2016,
          2010,
          2012,
          2013,
          2014,
          2017,
          2015
         ],
         "xaxis": "x",
         "y": [
          105.6,
          108.2,
          108.5,
          107.2,
          108,
          111,
          108.6,
          110.4,
          105,
          110
         ],
         "yaxis": "y"
        },
        {
         "customdata": [
          [
           "Japanese Grand Prix",
           "Massa",
           "Ferrari"
          ],
          [
           "Japanese Grand Prix",
           "Hamilton",
           "McLaren"
          ]
         ],
         "hovertemplate": "circuit_name=Fuji Speedway<br>year=%{x}<br>fastestLapSeconds=%{y}<br>race_name=%{customdata[0]}<br>surname=%{customdata[1]}<br>name=%{customdata[2]}<extra></extra>",
         "legendgroup": "Fuji Speedway",
         "line": {
          "color": "#ab63fa",
          "dash": "solid"
         },
         "marker": {
          "symbol": "circle"
         },
         "mode": "lines",
         "name": "Fuji Speedway",
         "orientation": "v",
         "showlegend": true,
         "type": "scatter",
         "x": [
          2008,
          2007
         ],
         "xaxis": "x",
         "y": [
          78.4,
          88.2
         ],
         "yaxis": "y"
        },
        {
         "customdata": [
          [
           "Chinese Grand Prix",
           "Hamilton",
           "McLaren"
          ],
          [
           "Chinese Grand Prix",
           "Vettel",
           "Red Bull"
          ],
          [
           "Chinese Grand Prix",
           "Barrichello",
           "Brawn"
          ],
          [
           "Chinese Grand Prix",
           "Hamilton",
           "McLaren"
          ],
          [
           "Chinese Grand Prix",
           "Kobayashi",
           "Sauber"
          ],
          [
           "Chinese Grand Prix",
           "Vergne",
           "Toro Rosso"
          ],
          [
           "Chinese Grand Prix",
           "Massa",
           "Ferrari"
          ],
          [
           "Chinese Grand Prix",
           "H�_lkenberg",
           "Force India"
          ],
          [
           "Chinese Grand Prix",
           "R�_ikk̦nen",
           "McLaren"
          ],
          [
           "Chinese Grand Prix",
           "Schumacher",
           "Ferrari"
          ],
          [
           "Chinese Grand Prix",
           "Vettel",
           "Red Bull"
          ],
          [
           "Chinese Grand Prix",
           "Alonso",
           "Renault"
          ],
          [
           "Chinese Grand Prix",
           "Rosberg",
           "Mercedes"
          ],
          [
           "Chinese Grand Prix",
           "Hamilton",
           "Mercedes"
          ],
          [
           "Chinese Grand Prix",
           "Hamilton",
           "Mercedes"
          ],
          [
           "Chinese Grand Prix",
           "Vettel",
           "Ferrari"
          ]
         ],
         "hovertemplate": "circuit_name=Shanghai International Circuit<br>year=%{x}<br>fastestLapSeconds=%{y}<br>race_name=%{customdata[0]}<br>surname=%{customdata[1]}<br>name=%{customdata[2]}<extra></extra>",
         "legendgroup": "Shanghai International Circuit",
         "line": {
          "color": "#FFA15A",
          "dash": "solid"
         },
         "marker": {
          "symbol": "circle"
         },
         "mode": "lines",
         "name": "Shanghai International Circuit",
         "orientation": "v",
         "showlegend": true,
         "type": "scatter",
         "x": [
          2008,
          2009,
          2009,
          2010,
          2012,
          2012,
          2007,
          2016,
          2005,
          2004,
          2013,
          2006,
          2014,
          2015,
          2017,
          2017
         ],
         "xaxis": "x",
         "y": [
          96.3,
          112.6,
          112.6,
          102.1,
          100,
          100,
          97.5,
          99.8,
          93.2,
          92.2,
          96.8,
          97.6,
          100.4,
          102.2,
          95.4,
          95.4
         ],
         "yaxis": "y"
        },
        {
         "customdata": [
          [
           "Brazilian Grand Prix",
           "Massa",
           "Ferrari"
          ],
          [
           "Brazilian Grand Prix",
           "Webber",
           "Red Bull"
          ],
          [
           "Brazilian Grand Prix",
           "Hamilton",
           "McLaren"
          ],
          [
           "Brazilian Grand Prix",
           "Button",
           "McLaren"
          ],
          [
           "Brazilian Grand Prix",
           "Alonso",
           "Ferrari"
          ],
          [
           "Brazilian Grand Prix",
           "R�_ikk̦nen",
           "Ferrari"
          ],
          [
           "Brazilian Grand Prix",
           "Verstappen",
           "Red Bull"
          ],
          [
           "Brazilian Grand Prix",
           "Verstappen",
           "Red Bull"
          ],
          [
           "Brazilian Grand Prix",
           "Schumacher",
           "Ferrari"
          ],
          [
           "Brazilian Grand Prix",
           "R�_ikk̦nen",
           "McLaren"
          ],
          [
           "Brazilian Grand Prix",
           "Pablo Montoya",
           "Williams"
          ],
          [
           "Brazilian Grand Prix",
           "Webber",
           "Red Bull"
          ],
          [
           "Brazilian Grand Prix",
           "Button",
           "McLaren"
          ],
          [
           "Brazilian Grand Prix",
           "Hamilton",
           "McLaren"
          ],
          [
           "Brazilian Grand Prix",
           "Webber",
           "Red Bull"
          ],
          [
           "Brazilian Grand Prix",
           "Hamilton",
           "Mercedes"
          ],
          [
           "Brazilian Grand Prix",
           "Rosberg",
           "Mercedes"
          ],
          [
           "Brazilian Grand Prix",
           "Hamilton",
           "Mercedes"
          ]
         ],
         "hovertemplate": "circuit_name=Aut�_dromo Jos̩ Carlos Pace<br>year=%{x}<br>fastestLapSeconds=%{y}<br>race_name=%{customdata[0]}<br>surname=%{customdata[1]}<br>name=%{customdata[2]}<extra></extra>",
         "legendgroup": "Aut�_dromo Jos̩ Carlos Pace",
         "line": {
          "color": "#19d3f3",
          "dash": "solid"
         },
         "marker": {
          "symbol": "circle"
         },
         "mode": "lines",
         "name": "Aut�_dromo Jos̩ Carlos Pace",
         "orientation": "v",
         "showlegend": true,
         "type": "scatter",
         "x": [
          2008,
          2009,
          2010,
          2010,
          2010,
          2007,
          2016,
          2017,
          2006,
          2005,
          2004,
          2011,
          2012,
          2012,
          2013,
          2014,
          2014,
          2015
         ],
         "xaxis": "x",
         "y": [
          73.7,
          73.7,
          73.9,
          73.9,
          73.9,
          72.4,
          85.3,
          71,
          72.2,
          72.3,
          71.5,
          75.3,
          78.1,
          78.1,
          75.4,
          73.6,
          73.6,
          74.8
         ],
         "yaxis": "y"
        },
        {
         "customdata": [
          [
           "Bahrain Grand Prix",
           "Massa",
           "Ferrari"
          ],
          [
           "Bahrain Grand Prix",
           "Glock",
           "Toyota"
          ],
          [
           "Bahrain Grand Prix",
           "Trulli",
           "Toyota"
          ],
          [
           "Bahrain Grand Prix",
           "Button",
           "Brawn"
          ],
          [
           "Bahrain Grand Prix",
           "Alonso",
           "Ferrari"
          ],
          [
           "Bahrain Grand Prix",
           "Vettel",
           "Red Bull"
          ],
          [
           "Bahrain Grand Prix",
           "Kovalainen",
           "McLaren"
          ],
          [
           "Bahrain Grand Prix",
           "Rosberg",
           "Williams"
          ],
          [
           "Bahrain Grand Prix",
           "de la Rosa",
           "McLaren"
          ],
          [
           "Bahrain Grand Prix",
           "Vettel",
           "Red Bull"
          ],
          [
           "Bahrain Grand Prix",
           "Rosberg",
           "Mercedes"
          ],
          [
           "Bahrain Grand Prix",
           "R�_ikk̦nen",
           "Ferrari"
          ],
          [
           "Bahrain Grand Prix",
           "Rosberg",
           "Mercedes"
          ],
          [
           "Bahrain Grand Prix",
           "Hamilton",
           "Mercedes"
          ],
          [
           "Bahrain Grand Prix",
           "Schumacher",
           "Ferrari"
          ]
         ],
         "hovertemplate": "circuit_name=Bahrain International Circuit<br>year=%{x}<br>fastestLapSeconds=%{y}<br>race_name=%{customdata[0]}<br>surname=%{customdata[1]}<br>name=%{customdata[2]}<extra></extra>",
         "legendgroup": "Bahrain International Circuit",
         "line": {
          "color": "#FF6692",
          "dash": "solid"
         },
         "marker": {
          "symbol": "circle"
         },
         "mode": "lines",
         "name": "Bahrain International Circuit",
         "orientation": "v",
         "showlegend": true,
         "type": "scatter",
         "x": [
          2007,
          2009,
          2009,
          2009,
          2010,
          2012,
          2008,
          2006,
          2005,
          2013,
          2014,
          2015,
          2016,
          2017,
          2004
         ],
         "xaxis": "x",
         "y": [
          94.1,
          94.6,
          94.6,
          94.6,
          118.3,
          96.4,
          93.2,
          92.4,
          91.4,
          97,
          97,
          96.3,
          94.5,
          92.8,
          90.3
         ],
         "yaxis": "y"
        },
        {
         "customdata": [
          [
           "Canadian Grand Prix",
           "Alonso",
           "McLaren"
          ],
          [
           "Canadian Grand Prix",
           "Kubica",
           "Renault"
          ],
          [
           "Canadian Grand Prix",
           "Vettel",
           "Red Bull"
          ],
          [
           "Canadian Grand Prix",
           "Heidfeld",
           "BMW Sauber"
          ],
          [
           "Canadian Grand Prix",
           "R�_ikk̦nen",
           "Ferrari"
          ],
          [
           "Canadian Grand Prix",
           "R�_ikk̦nen",
           "McLaren"
          ],
          [
           "Canadian Grand Prix",
           "R�_ikk̦nen",
           "McLaren"
          ],
          [
           "Canadian Grand Prix",
           "Button",
           "McLaren"
          ],
          [
           "Canadian Grand Prix",
           "R�_ikk̦nen",
           "Ferrari"
          ],
          [
           "Canadian Grand Prix",
           "Massa",
           "Williams"
          ],
          [
           "Canadian Grand Prix",
           "Alonso",
           "Ferrari"
          ],
          [
           "Canadian Grand Prix",
           "Webber",
           "Red Bull"
          ],
          [
           "Canadian Grand Prix",
           "R�_ikk̦nen",
           "Ferrari"
          ],
          [
           "Canadian Grand Prix",
           "Rosberg",
           "Mercedes"
          ],
          [
           "Canadian Grand Prix",
           "Hamilton",
           "Mercedes"
          ],
          [
           "Canadian Grand Prix",
           "Barrichello",
           "Ferrari"
          ],
          [
           "Canadian Grand Prix",
           "Schumacher",
           "Ferrari"
          ]
         ],
         "hovertemplate": "circuit_name=Circuit Gilles Villeneuve<br>year=%{x}<br>fastestLapSeconds=%{y}<br>race_name=%{customdata[0]}<br>surname=%{customdata[1]}<br>name=%{customdata[2]}<extra></extra>",
         "legendgroup": "Circuit Gilles Villeneuve",
         "line": {
          "color": "#B6E880",
          "dash": "solid"
         },
         "marker": {
          "symbol": "circle"
         },
         "mode": "lines",
         "name": "Circuit Gilles Villeneuve",
         "orientation": "v",
         "showlegend": true,
         "type": "scatter",
         "x": [
          2007,
          2010,
          2012,
          2008,
          2008,
          2006,
          2005,
          2011,
          2014,
          2014,
          2013,
          2013,
          2015,
          2016,
          2017,
          2004,
          2004
         ],
         "xaxis": "x",
         "y": [
          76.4,
          77,
          75.8,
          77.4,
          77.4,
          75.8,
          74.4,
          77,
          78.5,
          78.5,
          76.2,
          76.2,
          77,
          75.6,
          74.6,
          73.6,
          73.6
         ],
         "yaxis": "y"
        },
        {
         "customdata": [
          [
           "United States Grand Prix",
           "R�_ikk̦nen",
           "Ferrari"
          ],
          [
           "United States Grand Prix",
           "Schumacher",
           "Ferrari"
          ],
          [
           "United States Grand Prix",
           "Barrichello",
           "Ferrari"
          ],
          [
           "United States Grand Prix",
           "Schumacher",
           "Ferrari"
          ],
          [
           "United States Grand Prix",
           "Schumacher",
           "Ferrari"
          ]
         ],
         "hovertemplate": "circuit_name=Indianapolis Motor Speedway<br>year=%{x}<br>fastestLapSeconds=%{y}<br>race_name=%{customdata[0]}<br>surname=%{customdata[1]}<br>name=%{customdata[2]}<extra></extra>",
         "legendgroup": "Indianapolis Motor Speedway",
         "line": {
          "color": "#FF97FF",
          "dash": "solid"
         },
         "marker": {
          "symbol": "circle"
         },
         "mode": "lines",
         "name": "Indianapolis Motor Speedway",
         "orientation": "v",
         "showlegend": true,
         "type": "scatter",
         "x": [
          2007,
          2006,
          2004,
          2004,
          2005
         ],
         "xaxis": "x",
         "y": [
          73.1,
          72.7,
          70.4,
          70.4,
          71.5
         ],
         "yaxis": "y"
        },
        {
         "customdata": [
          [
           "Japanese Grand Prix",
           "Vettel",
           "Red Bull"
          ],
          [
           "Japanese Grand Prix",
           "Webber",
           "Red Bull"
          ],
          [
           "Japanese Grand Prix",
           "Button",
           "McLaren"
          ],
          [
           "Japanese Grand Prix",
           "Webber",
           "Red Bull"
          ],
          [
           "Japanese Grand Prix",
           "Button",
           "McLaren"
          ],
          [
           "Japanese Grand Prix",
           "Rosberg",
           "Mercedes"
          ],
          [
           "Japanese Grand Prix",
           "P̩rez",
           "Sauber"
          ],
          [
           "Japanese Grand Prix",
           "Vettel",
           "Red Bull"
          ],
          [
           "Japanese Grand Prix",
           "Alonso",
           "Renault"
          ],
          [
           "Japanese Grand Prix",
           "R�_ikk̦nen",
           "McLaren"
          ],
          [
           "Japanese Grand Prix",
           "Barrichello",
           "Ferrari"
          ],
          [
           "Japanese Grand Prix",
           "Webber",
           "Red Bull"
          ],
          [
           "Japanese Grand Prix",
           "Hamilton",
           "Mercedes"
          ],
          [
           "Japanese Grand Prix",
           "Hamilton",
           "Mercedes"
          ],
          [
           "Japanese Grand Prix",
           "Vettel",
           "Ferrari"
          ],
          [
           "Japanese Grand Prix",
           "Bottas",
           "Mercedes"
          ]
         ],
         "hovertemplate": "circuit_name=Suzuka Circuit<br>year=%{x}<br>fastestLapSeconds=%{y}<br>race_name=%{customdata[0]}<br>surname=%{customdata[1]}<br>name=%{customdata[2]}<extra></extra>",
         "legendgroup": "Suzuka Circuit",
         "line": {
          "color": "#FECB52",
          "dash": "solid"
         },
         "marker": {
          "symbol": "circle"
         },
         "mode": "lines",
         "name": "Suzuka Circuit",
         "orientation": "v",
         "showlegend": true,
         "type": "scatter",
         "x": [
          2009,
          2009,
          2010,
          2010,
          2011,
          2011,
          2011,
          2012,
          2006,
          2005,
          2004,
          2013,
          2014,
          2015,
          2016,
          2017
         ],
         "xaxis": "x",
         "y": [
          92.6,
          92.6,
          93.5,
          93.5,
          96.6,
          96.6,
          96.6,
          95.8,
          92.7,
          91.5,
          92.7,
          94.6,
          111.6,
          96.1,
          95.1,
          93.1
         ],
         "yaxis": "y"
        },
        {
         "customdata": [
          [
           "Korean Grand Prix",
           "Alonso",
           "Ferrari"
          ],
          [
           "Korean Grand Prix",
           "Vettel",
           "Red Bull"
          ],
          [
           "Korean Grand Prix",
           "Webber",
           "Red Bull"
          ],
          [
           "Korean Grand Prix",
           "Vettel",
           "Red Bull"
          ]
         ],
         "hovertemplate": "circuit_name=Korean International Circuit<br>year=%{x}<br>fastestLapSeconds=%{y}<br>race_name=%{customdata[0]}<br>surname=%{customdata[1]}<br>name=%{customdata[2]}<extra></extra>",
         "legendgroup": "Korean International Circuit",
         "line": {
          "color": "#636efa",
          "dash": "solid"
         },
         "marker": {
          "symbol": "circle"
         },
         "mode": "lines",
         "name": "Korean International Circuit",
         "orientation": "v",
         "showlegend": true,
         "type": "scatter",
         "x": [
          2010,
          2011,
          2012,
          2013
         ],
         "xaxis": "x",
         "y": [
          110.3,
          99.6,
          102,
          101.4
         ],
         "yaxis": "y"
        },
        {
         "customdata": [
          [
           "Abu Dhabi Grand Prix",
           "Hamilton",
           "McLaren"
          ],
          [
           "Abu Dhabi Grand Prix",
           "Webber",
           "Red Bull"
          ],
          [
           "Abu Dhabi Grand Prix",
           "Vettel",
           "Ferrari"
          ],
          [
           "Abu Dhabi Grand Prix",
           "Buemi",
           "Toro Rosso"
          ],
          [
           "Abu Dhabi Grand Prix",
           "Vettel",
           "Red Bull"
          ],
          [
           "Abu Dhabi Grand Prix",
           "Vettel",
           "Red Bull"
          ],
          [
           "Abu Dhabi Grand Prix",
           "Alonso",
           "Ferrari"
          ],
          [
           "Abu Dhabi Grand Prix",
           "Ricciardo",
           "Red Bull"
          ],
          [
           "Abu Dhabi Grand Prix",
           "Hamilton",
           "Mercedes"
          ],
          [
           "Abu Dhabi Grand Prix",
           "Bottas",
           "Mercedes"
          ]
         ],
         "hovertemplate": "circuit_name=Yas Marina Circuit<br>year=%{x}<br>fastestLapSeconds=%{y}<br>race_name=%{customdata[0]}<br>surname=%{customdata[1]}<br>name=%{customdata[2]}<extra></extra>",
         "legendgroup": "Yas Marina Circuit",
         "line": {
          "color": "#EF553B",
          "dash": "solid"
         },
         "marker": {
          "symbol": "circle"
         },
         "mode": "lines",
         "name": "Yas Marina Circuit",
         "orientation": "v",
         "showlegend": true,
         "type": "scatter",
         "x": [
          2010,
          2011,
          2016,
          2009,
          2009,
          2012,
          2013,
          2014,
          2015,
          2017
         ],
         "xaxis": "x",
         "y": [
          101.3,
          102.6,
          103.7,
          100.3,
          100.3,
          104,
          103.4,
          104.5,
          104.5,
          100.7
         ],
         "yaxis": "y"
        },
        {
         "customdata": [
          [
           "German Grand Prix",
           "Hamilton",
           "McLaren"
          ],
          [
           "European Grand Prix",
           "Massa",
           "Ferrari"
          ],
          [
           "German Grand Prix",
           "Alonso",
           "Renault"
          ],
          [
           "European Grand Prix",
           "Schumacher",
           "Ferrari"
          ],
          [
           "German Grand Prix",
           "Alonso",
           "Ferrari"
          ],
          [
           "European Grand Prix",
           "Alonso",
           "Renault"
          ],
          [
           "European Grand Prix",
           "Schumacher",
           "Ferrari"
          ]
         ],
         "hovertemplate": "circuit_name=N�_rburgring<br>year=%{x}<br>fastestLapSeconds=%{y}<br>race_name=%{customdata[0]}<br>surname=%{customdata[1]}<br>name=%{customdata[2]}<extra></extra>",
         "legendgroup": "N�_rburgring",
         "line": {
          "color": "#00cc96",
          "dash": "solid"
         },
         "marker": {
          "symbol": "circle"
         },
         "mode": "lines",
         "name": "N�_rburgring",
         "orientation": "v",
         "showlegend": true,
         "type": "scatter",
         "x": [
          2011,
          2007,
          2009,
          2006,
          2013,
          2005,
          2004
         ],
         "xaxis": "x",
         "y": [
          94.3,
          92.9,
          93.4,
          92.1,
          93.5,
          90.7,
          89.5
         ],
         "yaxis": "y"
        },
        {
         "customdata": [
          [
           "Indian Grand Prix",
           "Vettel",
           "Red Bull"
          ],
          [
           "Indian Grand Prix",
           "Button",
           "McLaren"
          ],
          [
           "Indian Grand Prix",
           "R�_ikk̦nen",
           "Lotus F1"
          ]
         ],
         "hovertemplate": "circuit_name=Buddh International Circuit<br>year=%{x}<br>fastestLapSeconds=%{y}<br>race_name=%{customdata[0]}<br>surname=%{customdata[1]}<br>name=%{customdata[2]}<extra></extra>",
         "legendgroup": "Buddh International Circuit",
         "line": {
          "color": "#ab63fa",
          "dash": "solid"
         },
         "marker": {
          "symbol": "circle"
         },
         "mode": "lines",
         "name": "Buddh International Circuit",
         "orientation": "v",
         "showlegend": true,
         "type": "scatter",
         "x": [
          2011,
          2012,
          2013
         ],
         "xaxis": "x",
         "y": [
          87.2,
          88.2,
          87.7
         ],
         "yaxis": "y"
        },
        {
         "customdata": [
          [
           "United States Grand Prix",
           "Vettel",
           "Red Bull"
          ],
          [
           "United States Grand Prix",
           "Hamilton",
           "Mercedes"
          ],
          [
           "United States Grand Prix",
           "Rosberg",
           "Mercedes"
          ],
          [
           "United States Grand Prix",
           "Vettel",
           "Ferrari"
          ],
          [
           "United States Grand Prix",
           "Vettel",
           "Red Bull"
          ],
          [
           "United States Grand Prix",
           "Vettel",
           "Red Bull"
          ],
          [
           "United States Grand Prix",
           "Bottas",
           "Mercedes"
          ],
          [
           "United States Grand Prix",
           "R�_ikk̦nen",
           "Ferrari"
          ]
         ],
         "hovertemplate": "circuit_name=Circuit of the Americas<br>year=%{x}<br>fastestLapSeconds=%{y}<br>race_name=%{customdata[0]}<br>surname=%{customdata[1]}<br>name=%{customdata[2]}<extra></extra>",
         "legendgroup": "Circuit of the Americas",
         "line": {
          "color": "#FFA15A",
          "dash": "solid"
         },
         "marker": {
          "symbol": "circle"
         },
         "mode": "lines",
         "name": "Circuit of the Americas",
         "orientation": "v",
         "showlegend": true,
         "type": "scatter",
         "x": [
          2012,
          2015,
          2015,
          2016,
          2013,
          2014,
          2017,
          2017
         ],
         "xaxis": "x",
         "y": [
          99.3,
          100.7,
          100.7,
          99.9,
          99.9,
          101.4,
          97.8,
          97.8
         ],
         "yaxis": "y"
        },
        {
         "customdata": [
          [
           "Russian Grand Prix",
           "Vettel",
           "Ferrari"
          ],
          [
           "Russian Grand Prix",
           "Bottas",
           "Williams"
          ],
          [
           "Russian Grand Prix",
           "Rosberg",
           "Mercedes"
          ],
          [
           "Russian Grand Prix",
           "R�_ikk̦nen",
           "Ferrari"
          ]
         ],
         "hovertemplate": "circuit_name=Sochi Autodrom<br>year=%{x}<br>fastestLapSeconds=%{y}<br>race_name=%{customdata[0]}<br>surname=%{customdata[1]}<br>name=%{customdata[2]}<extra></extra>",
         "legendgroup": "Sochi Autodrom",
         "line": {
          "color": "#19d3f3",
          "dash": "solid"
         },
         "marker": {
          "symbol": "circle"
         },
         "mode": "lines",
         "name": "Sochi Autodrom",
         "orientation": "v",
         "showlegend": true,
         "type": "scatter",
         "x": [
          2015,
          2014,
          2016,
          2017
         ],
         "xaxis": "x",
         "y": [
          100.1,
          100.9,
          99.1,
          96.8
         ],
         "yaxis": "y"
        },
        {
         "customdata": [
          [
           "Azerbaijan Grand Prix",
           "Vettel",
           "Ferrari"
          ],
          [
           "European Grand Prix",
           "Rosberg",
           "Mercedes"
          ]
         ],
         "hovertemplate": "circuit_name=Baku City Circuit<br>year=%{x}<br>fastestLapSeconds=%{y}<br>race_name=%{customdata[0]}<br>surname=%{customdata[1]}<br>name=%{customdata[2]}<extra></extra>",
         "legendgroup": "Baku City Circuit",
         "line": {
          "color": "#FF6692",
          "dash": "solid"
         },
         "marker": {
          "symbol": "circle"
         },
         "mode": "lines",
         "name": "Baku City Circuit",
         "orientation": "v",
         "showlegend": true,
         "type": "scatter",
         "x": [
          2017,
          2016
         ],
         "xaxis": "x",
         "y": [
          103.4,
          106.5
         ],
         "yaxis": "y"
        },
        {
         "customdata": [
          [
           "San Marino Grand Prix",
           "Alonso",
           "Renault"
          ],
          [
           "San Marino Grand Prix",
           "Schumacher",
           "Ferrari"
          ],
          [
           "San Marino Grand Prix",
           "Schumacher",
           "Ferrari"
          ],
          [
           "San Marino Grand Prix",
           "Schumacher",
           "Ferrari"
          ]
         ],
         "hovertemplate": "circuit_name=Autodromo Enzo e Dino Ferrari<br>year=%{x}<br>fastestLapSeconds=%{y}<br>race_name=%{customdata[0]}<br>surname=%{customdata[1]}<br>name=%{customdata[2]}<extra></extra>",
         "legendgroup": "Autodromo Enzo e Dino Ferrari",
         "line": {
          "color": "#B6E880",
          "dash": "solid"
         },
         "marker": {
          "symbol": "circle"
         },
         "mode": "lines",
         "name": "Autodromo Enzo e Dino Ferrari",
         "orientation": "v",
         "showlegend": true,
         "type": "scatter",
         "x": [
          2006,
          2006,
          2005,
          2004
         ],
         "xaxis": "x",
         "y": [
          84.6,
          84.6,
          81.9,
          80.4
         ],
         "yaxis": "y"
        },
        {
         "customdata": [
          [
           "Austrian Grand Prix",
           "P̩rez",
           "Force India"
          ],
          [
           "Austrian Grand Prix",
           "Hamilton",
           "Mercedes"
          ],
          [
           "Austrian Grand Prix",
           "Rosberg",
           "Mercedes"
          ],
          [
           "Austrian Grand Prix",
           "Hamilton",
           "Mercedes"
          ],
          [
           "Austrian Grand Prix",
           "Ricciardo",
           "Red Bull"
          ]
         ],
         "hovertemplate": "circuit_name=Red Bull Ring<br>year=%{x}<br>fastestLapSeconds=%{y}<br>race_name=%{customdata[0]}<br>surname=%{customdata[1]}<br>name=%{customdata[2]}<extra></extra>",
         "legendgroup": "Red Bull Ring",
         "line": {
          "color": "#FF97FF",
          "dash": "solid"
         },
         "marker": {
          "symbol": "circle"
         },
         "mode": "lines",
         "name": "Red Bull Ring",
         "orientation": "v",
         "showlegend": true,
         "type": "scatter",
         "x": [
          2014,
          2016,
          2015,
          2017,
          2017
         ],
         "xaxis": "x",
         "y": [
          72.1,
          68.4,
          71.2,
          67.4,
          67.4
         ],
         "yaxis": "y"
        },
        {
         "customdata": [
          [
           "Mexican Grand Prix",
           "Rosberg",
           "Mercedes"
          ],
          [
           "Mexican Grand Prix",
           "Ricciardo",
           "Red Bull"
          ],
          [
           "Mexican Grand Prix",
           "Vettel",
           "Ferrari"
          ]
         ],
         "hovertemplate": "circuit_name=Aut�_dromo Hermanos Rodr�_guez<br>year=%{x}<br>fastestLapSeconds=%{y}<br>race_name=%{customdata[0]}<br>surname=%{customdata[1]}<br>name=%{customdata[2]}<extra></extra>",
         "legendgroup": "Aut�_dromo Hermanos Rodr�_guez",
         "line": {
          "color": "#FECB52",
          "dash": "solid"
         },
         "marker": {
          "symbol": "circle"
         },
         "mode": "lines",
         "name": "Aut�_dromo Hermanos Rodr�_guez",
         "orientation": "v",
         "showlegend": true,
         "type": "scatter",
         "x": [
          2015,
          2016,
          2017
         ],
         "xaxis": "x",
         "y": [
          80.5,
          81.1,
          78.8
         ],
         "yaxis": "y"
        }
       ],
       "layout": {
        "legend": {
         "title": {
          "text": "circuit_name"
         },
         "tracegroupgap": 0
        },
        "margin": {
         "t": 60
        },
        "template": {
         "data": {
          "bar": [
           {
            "error_x": {
             "color": "#2a3f5f"
            },
            "error_y": {
             "color": "#2a3f5f"
            },
            "marker": {
             "line": {
              "color": "#E5ECF6",
              "width": 0.5
             },
             "pattern": {
              "fillmode": "overlay",
              "size": 10,
              "solidity": 0.2
             }
            },
            "type": "bar"
           }
          ],
          "barpolar": [
           {
            "marker": {
             "line": {
              "color": "#E5ECF6",
              "width": 0.5
             },
             "pattern": {
              "fillmode": "overlay",
              "size": 10,
              "solidity": 0.2
             }
            },
            "type": "barpolar"
           }
          ],
          "carpet": [
           {
            "aaxis": {
             "endlinecolor": "#2a3f5f",
             "gridcolor": "white",
             "linecolor": "white",
             "minorgridcolor": "white",
             "startlinecolor": "#2a3f5f"
            },
            "baxis": {
             "endlinecolor": "#2a3f5f",
             "gridcolor": "white",
             "linecolor": "white",
             "minorgridcolor": "white",
             "startlinecolor": "#2a3f5f"
            },
            "type": "carpet"
           }
          ],
          "choropleth": [
           {
            "colorbar": {
             "outlinewidth": 0,
             "ticks": ""
            },
            "type": "choropleth"
           }
          ],
          "contour": [
           {
            "colorbar": {
             "outlinewidth": 0,
             "ticks": ""
            },
            "colorscale": [
             [
              0,
              "#0d0887"
             ],
             [
              0.1111111111111111,
              "#46039f"
             ],
             [
              0.2222222222222222,
              "#7201a8"
             ],
             [
              0.3333333333333333,
              "#9c179e"
             ],
             [
              0.4444444444444444,
              "#bd3786"
             ],
             [
              0.5555555555555556,
              "#d8576b"
             ],
             [
              0.6666666666666666,
              "#ed7953"
             ],
             [
              0.7777777777777778,
              "#fb9f3a"
             ],
             [
              0.8888888888888888,
              "#fdca26"
             ],
             [
              1,
              "#f0f921"
             ]
            ],
            "type": "contour"
           }
          ],
          "contourcarpet": [
           {
            "colorbar": {
             "outlinewidth": 0,
             "ticks": ""
            },
            "type": "contourcarpet"
           }
          ],
          "heatmap": [
           {
            "colorbar": {
             "outlinewidth": 0,
             "ticks": ""
            },
            "colorscale": [
             [
              0,
              "#0d0887"
             ],
             [
              0.1111111111111111,
              "#46039f"
             ],
             [
              0.2222222222222222,
              "#7201a8"
             ],
             [
              0.3333333333333333,
              "#9c179e"
             ],
             [
              0.4444444444444444,
              "#bd3786"
             ],
             [
              0.5555555555555556,
              "#d8576b"
             ],
             [
              0.6666666666666666,
              "#ed7953"
             ],
             [
              0.7777777777777778,
              "#fb9f3a"
             ],
             [
              0.8888888888888888,
              "#fdca26"
             ],
             [
              1,
              "#f0f921"
             ]
            ],
            "type": "heatmap"
           }
          ],
          "heatmapgl": [
           {
            "colorbar": {
             "outlinewidth": 0,
             "ticks": ""
            },
            "colorscale": [
             [
              0,
              "#0d0887"
             ],
             [
              0.1111111111111111,
              "#46039f"
             ],
             [
              0.2222222222222222,
              "#7201a8"
             ],
             [
              0.3333333333333333,
              "#9c179e"
             ],
             [
              0.4444444444444444,
              "#bd3786"
             ],
             [
              0.5555555555555556,
              "#d8576b"
             ],
             [
              0.6666666666666666,
              "#ed7953"
             ],
             [
              0.7777777777777778,
              "#fb9f3a"
             ],
             [
              0.8888888888888888,
              "#fdca26"
             ],
             [
              1,
              "#f0f921"
             ]
            ],
            "type": "heatmapgl"
           }
          ],
          "histogram": [
           {
            "marker": {
             "pattern": {
              "fillmode": "overlay",
              "size": 10,
              "solidity": 0.2
             }
            },
            "type": "histogram"
           }
          ],
          "histogram2d": [
           {
            "colorbar": {
             "outlinewidth": 0,
             "ticks": ""
            },
            "colorscale": [
             [
              0,
              "#0d0887"
             ],
             [
              0.1111111111111111,
              "#46039f"
             ],
             [
              0.2222222222222222,
              "#7201a8"
             ],
             [
              0.3333333333333333,
              "#9c179e"
             ],
             [
              0.4444444444444444,
              "#bd3786"
             ],
             [
              0.5555555555555556,
              "#d8576b"
             ],
             [
              0.6666666666666666,
              "#ed7953"
             ],
             [
              0.7777777777777778,
              "#fb9f3a"
             ],
             [
              0.8888888888888888,
              "#fdca26"
             ],
             [
              1,
              "#f0f921"
             ]
            ],
            "type": "histogram2d"
           }
          ],
          "histogram2dcontour": [
           {
            "colorbar": {
             "outlinewidth": 0,
             "ticks": ""
            },
            "colorscale": [
             [
              0,
              "#0d0887"
             ],
             [
              0.1111111111111111,
              "#46039f"
             ],
             [
              0.2222222222222222,
              "#7201a8"
             ],
             [
              0.3333333333333333,
              "#9c179e"
             ],
             [
              0.4444444444444444,
              "#bd3786"
             ],
             [
              0.5555555555555556,
              "#d8576b"
             ],
             [
              0.6666666666666666,
              "#ed7953"
             ],
             [
              0.7777777777777778,
              "#fb9f3a"
             ],
             [
              0.8888888888888888,
              "#fdca26"
             ],
             [
              1,
              "#f0f921"
             ]
            ],
            "type": "histogram2dcontour"
           }
          ],
          "mesh3d": [
           {
            "colorbar": {
             "outlinewidth": 0,
             "ticks": ""
            },
            "type": "mesh3d"
           }
          ],
          "parcoords": [
           {
            "line": {
             "colorbar": {
              "outlinewidth": 0,
              "ticks": ""
             }
            },
            "type": "parcoords"
           }
          ],
          "pie": [
           {
            "automargin": true,
            "type": "pie"
           }
          ],
          "scatter": [
           {
            "marker": {
             "colorbar": {
              "outlinewidth": 0,
              "ticks": ""
             }
            },
            "type": "scatter"
           }
          ],
          "scatter3d": [
           {
            "line": {
             "colorbar": {
              "outlinewidth": 0,
              "ticks": ""
             }
            },
            "marker": {
             "colorbar": {
              "outlinewidth": 0,
              "ticks": ""
             }
            },
            "type": "scatter3d"
           }
          ],
          "scattercarpet": [
           {
            "marker": {
             "colorbar": {
              "outlinewidth": 0,
              "ticks": ""
             }
            },
            "type": "scattercarpet"
           }
          ],
          "scattergeo": [
           {
            "marker": {
             "colorbar": {
              "outlinewidth": 0,
              "ticks": ""
             }
            },
            "type": "scattergeo"
           }
          ],
          "scattergl": [
           {
            "marker": {
             "colorbar": {
              "outlinewidth": 0,
              "ticks": ""
             }
            },
            "type": "scattergl"
           }
          ],
          "scattermapbox": [
           {
            "marker": {
             "colorbar": {
              "outlinewidth": 0,
              "ticks": ""
             }
            },
            "type": "scattermapbox"
           }
          ],
          "scatterpolar": [
           {
            "marker": {
             "colorbar": {
              "outlinewidth": 0,
              "ticks": ""
             }
            },
            "type": "scatterpolar"
           }
          ],
          "scatterpolargl": [
           {
            "marker": {
             "colorbar": {
              "outlinewidth": 0,
              "ticks": ""
             }
            },
            "type": "scatterpolargl"
           }
          ],
          "scatterternary": [
           {
            "marker": {
             "colorbar": {
              "outlinewidth": 0,
              "ticks": ""
             }
            },
            "type": "scatterternary"
           }
          ],
          "surface": [
           {
            "colorbar": {
             "outlinewidth": 0,
             "ticks": ""
            },
            "colorscale": [
             [
              0,
              "#0d0887"
             ],
             [
              0.1111111111111111,
              "#46039f"
             ],
             [
              0.2222222222222222,
              "#7201a8"
             ],
             [
              0.3333333333333333,
              "#9c179e"
             ],
             [
              0.4444444444444444,
              "#bd3786"
             ],
             [
              0.5555555555555556,
              "#d8576b"
             ],
             [
              0.6666666666666666,
              "#ed7953"
             ],
             [
              0.7777777777777778,
              "#fb9f3a"
             ],
             [
              0.8888888888888888,
              "#fdca26"
             ],
             [
              1,
              "#f0f921"
             ]
            ],
            "type": "surface"
           }
          ],
          "table": [
           {
            "cells": {
             "fill": {
              "color": "#EBF0F8"
             },
             "line": {
              "color": "white"
             }
            },
            "header": {
             "fill": {
              "color": "#C8D4E3"
             },
             "line": {
              "color": "white"
             }
            },
            "type": "table"
           }
          ]
         },
         "layout": {
          "annotationdefaults": {
           "arrowcolor": "#2a3f5f",
           "arrowhead": 0,
           "arrowwidth": 1
          },
          "autotypenumbers": "strict",
          "coloraxis": {
           "colorbar": {
            "outlinewidth": 0,
            "ticks": ""
           }
          },
          "colorscale": {
           "diverging": [
            [
             0,
             "#8e0152"
            ],
            [
             0.1,
             "#c51b7d"
            ],
            [
             0.2,
             "#de77ae"
            ],
            [
             0.3,
             "#f1b6da"
            ],
            [
             0.4,
             "#fde0ef"
            ],
            [
             0.5,
             "#f7f7f7"
            ],
            [
             0.6,
             "#e6f5d0"
            ],
            [
             0.7,
             "#b8e186"
            ],
            [
             0.8,
             "#7fbc41"
            ],
            [
             0.9,
             "#4d9221"
            ],
            [
             1,
             "#276419"
            ]
           ],
           "sequential": [
            [
             0,
             "#0d0887"
            ],
            [
             0.1111111111111111,
             "#46039f"
            ],
            [
             0.2222222222222222,
             "#7201a8"
            ],
            [
             0.3333333333333333,
             "#9c179e"
            ],
            [
             0.4444444444444444,
             "#bd3786"
            ],
            [
             0.5555555555555556,
             "#d8576b"
            ],
            [
             0.6666666666666666,
             "#ed7953"
            ],
            [
             0.7777777777777778,
             "#fb9f3a"
            ],
            [
             0.8888888888888888,
             "#fdca26"
            ],
            [
             1,
             "#f0f921"
            ]
           ],
           "sequentialminus": [
            [
             0,
             "#0d0887"
            ],
            [
             0.1111111111111111,
             "#46039f"
            ],
            [
             0.2222222222222222,
             "#7201a8"
            ],
            [
             0.3333333333333333,
             "#9c179e"
            ],
            [
             0.4444444444444444,
             "#bd3786"
            ],
            [
             0.5555555555555556,
             "#d8576b"
            ],
            [
             0.6666666666666666,
             "#ed7953"
            ],
            [
             0.7777777777777778,
             "#fb9f3a"
            ],
            [
             0.8888888888888888,
             "#fdca26"
            ],
            [
             1,
             "#f0f921"
            ]
           ]
          },
          "colorway": [
           "#636efa",
           "#EF553B",
           "#00cc96",
           "#ab63fa",
           "#FFA15A",
           "#19d3f3",
           "#FF6692",
           "#B6E880",
           "#FF97FF",
           "#FECB52"
          ],
          "font": {
           "color": "#2a3f5f"
          },
          "geo": {
           "bgcolor": "white",
           "lakecolor": "white",
           "landcolor": "#E5ECF6",
           "showlakes": true,
           "showland": true,
           "subunitcolor": "white"
          },
          "hoverlabel": {
           "align": "left"
          },
          "hovermode": "closest",
          "mapbox": {
           "style": "light"
          },
          "paper_bgcolor": "white",
          "plot_bgcolor": "#E5ECF6",
          "polar": {
           "angularaxis": {
            "gridcolor": "white",
            "linecolor": "white",
            "ticks": ""
           },
           "bgcolor": "#E5ECF6",
           "radialaxis": {
            "gridcolor": "white",
            "linecolor": "white",
            "ticks": ""
           }
          },
          "scene": {
           "xaxis": {
            "backgroundcolor": "#E5ECF6",
            "gridcolor": "white",
            "gridwidth": 2,
            "linecolor": "white",
            "showbackground": true,
            "ticks": "",
            "zerolinecolor": "white"
           },
           "yaxis": {
            "backgroundcolor": "#E5ECF6",
            "gridcolor": "white",
            "gridwidth": 2,
            "linecolor": "white",
            "showbackground": true,
            "ticks": "",
            "zerolinecolor": "white"
           },
           "zaxis": {
            "backgroundcolor": "#E5ECF6",
            "gridcolor": "white",
            "gridwidth": 2,
            "linecolor": "white",
            "showbackground": true,
            "ticks": "",
            "zerolinecolor": "white"
           }
          },
          "shapedefaults": {
           "line": {
            "color": "#2a3f5f"
           }
          },
          "ternary": {
           "aaxis": {
            "gridcolor": "white",
            "linecolor": "white",
            "ticks": ""
           },
           "baxis": {
            "gridcolor": "white",
            "linecolor": "white",
            "ticks": ""
           },
           "bgcolor": "#E5ECF6",
           "caxis": {
            "gridcolor": "white",
            "linecolor": "white",
            "ticks": ""
           }
          },
          "title": {
           "x": 0.05
          },
          "xaxis": {
           "automargin": true,
           "gridcolor": "white",
           "linecolor": "white",
           "ticks": "",
           "title": {
            "standoff": 15
           },
           "zerolinecolor": "white",
           "zerolinewidth": 2
          },
          "yaxis": {
           "automargin": true,
           "gridcolor": "white",
           "linecolor": "white",
           "ticks": "",
           "title": {
            "standoff": 15
           },
           "zerolinecolor": "white",
           "zerolinewidth": 2
          }
         }
        },
        "xaxis": {
         "anchor": "y",
         "domain": [
          0,
          1
         ],
         "title": {
          "text": "year"
         }
        },
        "yaxis": {
         "anchor": "x",
         "domain": [
          0,
          1
         ],
         "title": {
          "text": "fastestLapSeconds"
         }
        }
       }
      },
      "text/html": [
       "<div>                            <div id=\"bcb39fd6-7b40-4cfe-8bcb-57f22ba002b4\" class=\"plotly-graph-div\" style=\"height:525px; width:100%;\"></div>            <script type=\"text/javascript\">                require([\"plotly\"], function(Plotly) {                    window.PLOTLYENV=window.PLOTLYENV || {};                                    if (document.getElementById(\"bcb39fd6-7b40-4cfe-8bcb-57f22ba002b4\")) {                    Plotly.newPlot(                        \"bcb39fd6-7b40-4cfe-8bcb-57f22ba002b4\",                        [{\"customdata\":[[\"Australian Grand Prix\",\"Kovalainen\",\"McLaren\"],[\"Australian Grand Prix\",\"R\\ufffd_ikk\\u0326nen\",\"Ferrari\"],[\"Australian Grand Prix\",\"Webber\",\"Red Bull\"],[\"Australian Grand Prix\",\"Massa\",\"Ferrari\"],[\"Australian Grand Prix\",\"Button\",\"McLaren\"],[\"Australian Grand Prix\",\"R\\ufffd_ikk\\u0326nen\",\"McLaren\"],[\"Australian Grand Prix\",\"Alonso\",\"Renault\"],[\"Australian Grand Prix\",\"R\\ufffd_ikk\\u0326nen\",\"Lotus F1\"],[\"Australian Grand Prix\",\"Rosberg\",\"Mercedes\"],[\"Australian Grand Prix\",\"Hamilton\",\"Mercedes\"],[\"Australian Grand Prix\",\"Ricciardo\",\"Red Bull\"],[\"Australian Grand Prix\",\"R\\ufffd_ikk\\u0326nen\",\"Ferrari\"],[\"Australian Grand Prix\",\"Rosberg\",\"Williams\"],[\"Australian Grand Prix\",\"Schumacher\",\"Ferrari\"]],\"hovertemplate\":\"circuit_name=Albert Park Grand Prix Circuit<br>year=%{x}<br>fastestLapSeconds=%{y}<br>race_name=%{customdata[0]}<br>surname=%{customdata[1]}<br>name=%{customdata[2]}<extra></extra>\",\"legendgroup\":\"Albert Park Grand Prix Circuit\",\"line\":{\"color\":\"#636efa\",\"dash\":\"solid\"},\"marker\":{\"symbol\":\"circle\"},\"mode\":\"lines\",\"name\":\"Albert Park Grand Prix Circuit\",\"orientation\":\"v\",\"showlegend\":true,\"type\":\"scatter\",\"x\":[2008,2007,2010,2011,2012,2006,2005,2013,2014,2015,2016,2017,2009,2004],\"xaxis\":\"x\",\"y\":[87.4,85.2,88.4,88.9,89.2,86.0,85.7,89.3,92.5,90.9,89.0,86.5,87.7,84.1],\"yaxis\":\"y\"},{\"customdata\":[[\"Malaysian Grand Prix\",\"Heidfeld\",\"BMW Sauber\"],[\"Malaysian Grand Prix\",\"R\\ufffd_ikk\\u0326nen\",\"Ferrari\"],[\"Malaysian Grand Prix\",\"Hamilton\",\"McLaren\"],[\"Malaysian Grand Prix\",\"Button\",\"Brawn\"],[\"Malaysian Grand Prix\",\"Webber\",\"Red Bull\"],[\"Malaysian Grand Prix\",\"Webber\",\"Red Bull\"],[\"Malaysian Grand Prix\",\"R\\ufffd_ikk\\u0326nen\",\"Lotus F1\"],[\"Malaysian Grand Prix\",\"Rosberg\",\"Mercedes\"],[\"Malaysian Grand Prix\",\"R\\ufffd_ikk\\u0326nen\",\"McLaren\"],[\"Malaysian Grand Prix\",\"Pablo Montoya\",\"Williams\"],[\"Malaysian Grand Prix\",\"Hamilton\",\"Mercedes\"],[\"Malaysian Grand Prix\",\"Alonso\",\"Renault\"],[\"Malaysian Grand Prix\",\"P\\u0329rez\",\"McLaren\"],[\"Malaysian Grand Prix\",\"Rosberg\",\"Mercedes\"],[\"Malaysian Grand Prix\",\"Vettel\",\"Ferrari\"]],\"hovertemplate\":\"circuit_name=Sepang International Circuit<br>year=%{x}<br>fastestLapSeconds=%{y}<br>race_name=%{customdata[0]}<br>surname=%{customdata[1]}<br>name=%{customdata[2]}<extra></extra>\",\"legendgroup\":\"Sepang International Circuit\",\"line\":{\"color\":\"#EF553B\",\"dash\":\"solid\"},\"marker\":{\"symbol\":\"circle\"},\"mode\":\"lines\",\"name\":\"Sepang International Circuit\",\"orientation\":\"v\",\"showlegend\":true,\"type\":\"scatter\",\"x\":[2008,2008,2007,2009,2010,2011,2012,2016,2005,2004,2014,2006,2013,2015,2017],\"xaxis\":\"x\",\"y\":[95.4,95.4,96.7,96.6,97.1,100.6,100.7,96.4,95.5,94.2,103.1,94.8,99.2,102.1,94.1],\"yaxis\":\"y\"},{\"customdata\":[[\"Spanish Grand Prix\",\"R\\ufffd_ikk\\u0326nen\",\"Ferrari\"],[\"Spanish Grand Prix\",\"Massa\",\"Ferrari\"],[\"Spanish Grand Prix\",\"Hamilton\",\"McLaren\"],[\"Spanish Grand Prix\",\"Grosjean\",\"Lotus F1\"],[\"Spanish Grand Prix\",\"Massa\",\"Ferrari\"],[\"Spanish Grand Prix\",\"Fisichella\",\"Renault\"],[\"Spanish Grand Prix\",\"Schumacher\",\"Ferrari\"],[\"Spanish Grand Prix\",\"Hamilton\",\"McLaren\"],[\"Spanish Grand Prix\",\"Guti\\u0329rrez\",\"Sauber\"],[\"Spanish Grand Prix\",\"Vettel\",\"Red Bull\"],[\"Spanish Grand Prix\",\"Hamilton\",\"Mercedes\"],[\"Spanish Grand Prix\",\"Hamilton\",\"Mercedes\"],[\"Spanish Grand Prix\",\"Barrichello\",\"Brawn\"],[\"Spanish Grand Prix\",\"Kvyat\",\"Toro Rosso\"],[\"Spanish Grand Prix\",\"Schumacher\",\"Ferrari\"],[\"Spanish Grand Prix\",\"Button\",\"BAR\"]],\"hovertemplate\":\"circuit_name=Circuit de Barcelona-Catalunya<br>year=%{x}<br>fastestLapSeconds=%{y}<br>race_name=%{customdata[0]}<br>surname=%{customdata[1]}<br>name=%{customdata[2]}<extra></extra>\",\"legendgroup\":\"Circuit de Barcelona-Catalunya\",\"line\":{\"color\":\"#00cc96\",\"dash\":\"solid\"},\"marker\":{\"symbol\":\"circle\"},\"mode\":\"lines\",\"name\":\"Circuit de Barcelona-Catalunya\",\"orientation\":\"v\",\"showlegend\":true,\"type\":\"scatter\",\"x\":[2008,2007,2011,2012,2006,2005,2005,2010,2013,2014,2015,2017,2009,2016,2004,2004],\"xaxis\":\"x\",\"y\":[81.7,82.7,86.7,86.3,76.6,75.6,75.6,84.4,86.2,88.9,88.3,83.6,82.8,86.9,77.5,77.5],\"yaxis\":\"y\"},{\"customdata\":[[\"Turkish Grand Prix\",\"Hamilton\",\"McLaren\"],[\"Turkish Grand Prix\",\"R\\ufffd_ikk\\u0326nen\",\"Ferrari\"],[\"Turkish Grand Prix\",\"R\\ufffd_ikk\\u0326nen\",\"Ferrari\"],[\"Turkish Grand Prix\",\"Vettel\",\"Red Bull\"],[\"Turkish Grand Prix\",\"Button\",\"Brawn\"],[\"Turkish Grand Prix\",\"Webber\",\"Red Bull\"],[\"Turkish Grand Prix\",\"Petrov\",\"Renault\"],[\"Turkish Grand Prix\",\"Webber\",\"Red Bull\"],[\"Turkish Grand Prix\",\"Pablo Montoya\",\"McLaren\"],[\"Turkish Grand Prix\",\"Schumacher\",\"Ferrari\"]],\"hovertemplate\":\"circuit_name=Istanbul Park<br>year=%{x}<br>fastestLapSeconds=%{y}<br>race_name=%{customdata[0]}<br>surname=%{customdata[1]}<br>name=%{customdata[2]}<extra></extra>\",\"legendgroup\":\"Istanbul Park\",\"line\":{\"color\":\"#ab63fa\",\"dash\":\"solid\"},\"marker\":{\"symbol\":\"circle\"},\"mode\":\"lines\",\"name\":\"Istanbul Park\",\"orientation\":\"v\",\"showlegend\":true,\"type\":\"scatter\",\"x\":[2008,2008,2007,2009,2009,2010,2010,2011,2005,2006],\"xaxis\":\"x\",\"y\":[86.5,86.5,87.3,87.6,87.6,89.2,89.2,89.7,84.8,88.0],\"yaxis\":\"y\"},{\"customdata\":[[\"Monaco Grand Prix\",\"R\\ufffd_ikk\\u0326nen\",\"Ferrari\"],[\"Monaco Grand Prix\",\"Alonso\",\"McLaren\"],[\"Monaco Grand Prix\",\"Vettel\",\"Red Bull\"],[\"Monaco Grand Prix\",\"Webber\",\"Red Bull\"],[\"Monaco Grand Prix\",\"P\\u0329rez\",\"Sauber\"],[\"Monaco Grand Prix\",\"Hamilton\",\"Mercedes\"],[\"Monaco Grand Prix\",\"Schumacher\",\"Ferrari\"],[\"Monaco Grand Prix\",\"Vettel\",\"Red Bull\"],[\"Monaco Grand Prix\",\"Ricciardo\",\"Red Bull\"],[\"Monaco Grand Prix\",\"Schumacher\",\"Ferrari\"],[\"Monaco Grand Prix\",\"R\\ufffd_ikk\\u0326nen\",\"Ferrari\"],[\"Monaco Grand Prix\",\"P\\u0329rez\",\"Force India\"],[\"Monaco Grand Prix\",\"Massa\",\"Ferrari\"],[\"Monaco Grand Prix\",\"Button\",\"Brawn\"],[\"Monaco Grand Prix\",\"Schumacher\",\"Ferrari\"]],\"hovertemplate\":\"circuit_name=Circuit de Monaco<br>year=%{x}<br>fastestLapSeconds=%{y}<br>race_name=%{customdata[0]}<br>surname=%{customdata[1]}<br>name=%{customdata[2]}<extra></extra>\",\"legendgroup\":\"Circuit de Monaco\",\"line\":{\"color\":\"#FFA15A\",\"dash\":\"solid\"},\"marker\":{\"symbol\":\"circle\"},\"mode\":\"lines\",\"name\":\"Circuit de Monaco\",\"orientation\":\"v\",\"showlegend\":true,\"type\":\"scatter\",\"x\":[2008,2007,2010,2011,2012,2016,2005,2013,2015,2006,2014,2017,2009,2009,2004],\"xaxis\":\"x\",\"y\":[76.7,75.3,75.2,76.2,77.3,77.9,75.8,76.6,78.1,75.1,78.5,74.8,75.2,75.2,74.4],\"yaxis\":\"y\"},{\"customdata\":[[\"French Grand Prix\",\"R\\ufffd_ikk\\u0326nen\",\"Ferrari\"],[\"French Grand Prix\",\"Massa\",\"Ferrari\"],[\"French Grand Prix\",\"Massa\",\"Ferrari\"],[\"French Grand Prix\",\"Schumacher\",\"Ferrari\"],[\"French Grand Prix\",\"R\\ufffd_ikk\\u0326nen\",\"McLaren\"],[\"French Grand Prix\",\"Schumacher\",\"Ferrari\"]],\"hovertemplate\":\"circuit_name=Circuit de Nevers Magny-Cours<br>year=%{x}<br>fastestLapSeconds=%{y}<br>race_name=%{customdata[0]}<br>surname=%{customdata[1]}<br>name=%{customdata[2]}<extra></extra>\",\"legendgroup\":\"Circuit de Nevers Magny-Cours\",\"line\":{\"color\":\"#19d3f3\",\"dash\":\"solid\"},\"marker\":{\"symbol\":\"circle\"},\"mode\":\"lines\",\"name\":\"Circuit de Nevers Magny-Cours\",\"orientation\":\"v\",\"showlegend\":true,\"type\":\"scatter\",\"x\":[2008,2007,2006,2006,2005,2004],\"xaxis\":\"x\",\"y\":[76.6,76.1,77.1,77.1,76.4,75.4],\"yaxis\":\"y\"},{\"customdata\":[[\"British Grand Prix\",\"R\\ufffd_ikk\\u0326nen\",\"Ferrari\"],[\"British Grand Prix\",\"R\\ufffd_ikk\\u0326nen\",\"Ferrari\"],[\"British Grand Prix\",\"Alonso\",\"Ferrari\"],[\"British Grand Prix\",\"Alonso\",\"Ferrari\"],[\"British Grand Prix\",\"R\\ufffd_ikk\\u0326nen\",\"Lotus F1\"],[\"British Grand Prix\",\"Alonso\",\"Renault\"],[\"British Grand Prix\",\"R\\ufffd_ikk\\u0326nen\",\"McLaren\"],[\"British Grand Prix\",\"Schumacher\",\"Ferrari\"],[\"British Grand Prix\",\"Webber\",\"Red Bull\"],[\"British Grand Prix\",\"Hamilton\",\"Mercedes\"],[\"British Grand Prix\",\"Hamilton\",\"Mercedes\"],[\"British Grand Prix\",\"Rosberg\",\"Mercedes\"],[\"British Grand Prix\",\"Hamilton\",\"Mercedes\"],[\"British Grand Prix\",\"Vettel\",\"Red Bull\"]],\"hovertemplate\":\"circuit_name=Silverstone Circuit<br>year=%{x}<br>fastestLapSeconds=%{y}<br>race_name=%{customdata[0]}<br>surname=%{customdata[1]}<br>name=%{customdata[2]}<extra></extra>\",\"legendgroup\":\"Silverstone Circuit\",\"line\":{\"color\":\"#FF6692\",\"dash\":\"solid\"},\"marker\":{\"symbol\":\"circle\"},\"mode\":\"lines\",\"name\":\"Silverstone Circuit\",\"orientation\":\"v\",\"showlegend\":true,\"type\":\"scatter\",\"x\":[2008,2007,2010,2011,2012,2006,2005,2004,2013,2014,2015,2016,2017,2009],\"xaxis\":\"x\",\"y\":[92.1,80.6,90.9,94.9,94.7,81.6,80.5,78.7,93.4,97.2,97.1,95.5,90.6,80.7],\"yaxis\":\"y\"},{\"customdata\":[[\"German Grand Prix\",\"Hamilton\",\"McLaren\"],[\"German Grand Prix\",\"Heidfeld\",\"BMW Sauber\"],[\"German Grand Prix\",\"Vettel\",\"Red Bull\"],[\"German Grand Prix\",\"Massa\",\"Ferrari\"],[\"German Grand Prix\",\"Schumacher\",\"Ferrari\"],[\"German Grand Prix\",\"Schumacher\",\"Ferrari\"],[\"German Grand Prix\",\"R\\ufffd_ikk\\u0326nen\",\"McLaren\"],[\"German Grand Prix\",\"Schumacher\",\"Mercedes\"],[\"German Grand Prix\",\"Hamilton\",\"Mercedes\"],[\"German Grand Prix\",\"R\\ufffd_ikk\\u0326nen\",\"McLaren\"],[\"German Grand Prix\",\"Ricciardo\",\"Red Bull\"]],\"hovertemplate\":\"circuit_name=Hockenheimring<br>year=%{x}<br>fastestLapSeconds=%{y}<br>race_name=%{customdata[0]}<br>surname=%{customdata[1]}<br>name=%{customdata[2]}<extra></extra>\",\"legendgroup\":\"Hockenheimring\",\"line\":{\"color\":\"#B6E880\",\"dash\":\"solid\"},\"marker\":{\"symbol\":\"circle\"},\"mode\":\"lines\",\"name\":\"Hockenheimring\",\"orientation\":\"v\",\"showlegend\":true,\"type\":\"scatter\",\"x\":[2008,2008,2010,2006,2006,2004,2004,2012,2014,2005,2016],\"xaxis\":\"x\",\"y\":[76.0,76.0,75.8,76.4,76.4,73.8,73.8,78.7,79.9,74.9,78.4],\"yaxis\":\"y\"},{\"customdata\":[[\"Hungarian Grand Prix\",\"R\\ufffd_ikk\\u0326nen\",\"Ferrari\"],[\"Hungarian Grand Prix\",\"R\\ufffd_ikk\\u0326nen\",\"Ferrari\"],[\"Hungarian Grand Prix\",\"Webber\",\"Red Bull\"],[\"Hungarian Grand Prix\",\"Massa\",\"Ferrari\"],[\"Hungarian Grand Prix\",\"Vettel\",\"Red Bull\"],[\"Hungarian Grand Prix\",\"Ricciardo\",\"Red Bull\"],[\"Hungarian Grand Prix\",\"Alonso\",\"McLaren\"],[\"Hungarian Grand Prix\",\"R\\ufffd_ikk\\u0326nen\",\"McLaren\"],[\"Hungarian Grand Prix\",\"Pablo Montoya\",\"McLaren\"],[\"Hungarian Grand Prix\",\"Webber\",\"Red Bull\"],[\"Hungarian Grand Prix\",\"Rosberg\",\"Mercedes\"],[\"Hungarian Grand Prix\",\"Massa\",\"Ferrari\"],[\"Hungarian Grand Prix\",\"R\\ufffd_ikk\\u0326nen\",\"Ferrari\"],[\"Hungarian Grand Prix\",\"Schumacher\",\"Ferrari\"],[\"Hungarian Grand Prix\",\"Vettel\",\"Red Bull\"]],\"hovertemplate\":\"circuit_name=Hungaroring<br>year=%{x}<br>fastestLapSeconds=%{y}<br>race_name=%{customdata[0]}<br>surname=%{customdata[1]}<br>name=%{customdata[2]}<extra></extra>\",\"legendgroup\":\"Hungaroring\",\"line\":{\"color\":\"#FF97FF\",\"dash\":\"solid\"},\"marker\":{\"symbol\":\"circle\"},\"mode\":\"lines\",\"name\":\"Hungaroring\",\"orientation\":\"v\",\"showlegend\":true,\"type\":\"scatter\",\"x\":[2008,2007,2009,2011,2012,2015,2017,2005,2005,2013,2014,2006,2016,2004,2010],\"xaxis\":\"x\",\"y\":[81.2,80.0,81.9,83.4,84.1,84.8,80.2,81.2,81.2,84.1,85.7,83.5,83.1,79.1,82.4],\"yaxis\":\"y\"},{\"customdata\":[[\"European Grand Prix\",\"Massa\",\"Ferrari\"],[\"European Grand Prix\",\"Glock\",\"Toyota\"],[\"European Grand Prix\",\"Button\",\"McLaren\"],[\"European Grand Prix\",\"Vettel\",\"Red Bull\"],[\"European Grand Prix\",\"Rosberg\",\"Mercedes\"]],\"hovertemplate\":\"circuit_name=Valencia Street Circuit<br>year=%{x}<br>fastestLapSeconds=%{y}<br>race_name=%{customdata[0]}<br>surname=%{customdata[1]}<br>name=%{customdata[2]}<extra></extra>\",\"legendgroup\":\"Valencia Street Circuit\",\"line\":{\"color\":\"#FECB52\",\"dash\":\"solid\"},\"marker\":{\"symbol\":\"circle\"},\"mode\":\"lines\",\"name\":\"Valencia Street Circuit\",\"orientation\":\"v\",\"showlegend\":true,\"type\":\"scatter\",\"x\":[2008,2009,2010,2011,2012],\"xaxis\":\"x\",\"y\":[98.7,98.7,98.8,101.9,102.2],\"yaxis\":\"y\"},{\"customdata\":[[\"Belgian Grand Prix\",\"R\\ufffd_ikk\\u0326nen\",\"Ferrari\"],[\"Belgian Grand Prix\",\"Massa\",\"Ferrari\"],[\"Belgian Grand Prix\",\"Hamilton\",\"McLaren\"],[\"Belgian Grand Prix\",\"Hamilton\",\"Mercedes\"],[\"Belgian Grand Prix\",\"Vettel\",\"Red Bull\"],[\"Belgian Grand Prix\",\"Schumacher\",\"Toyota\"],[\"Belgian Grand Prix\",\"R\\ufffd_ikk\\u0326nen\",\"McLaren\"],[\"Belgian Grand Prix\",\"Webber\",\"Red Bull\"],[\"Belgian Grand Prix\",\"Senna\",\"Williams\"],[\"Belgian Grand Prix\",\"Button\",\"McLaren\"],[\"Belgian Grand Prix\",\"Vettel\",\"Red Bull\"],[\"Belgian Grand Prix\",\"Rosberg\",\"Mercedes\"],[\"Belgian Grand Prix\",\"Hamilton\",\"Mercedes\"],[\"Belgian Grand Prix\",\"Vettel\",\"Ferrari\"],[\"Belgian Grand Prix\",\"Rosberg\",\"Mercedes\"]],\"hovertemplate\":\"circuit_name=Circuit de Spa-Francorchamps<br>year=%{x}<br>fastestLapSeconds=%{y}<br>race_name=%{customdata[0]}<br>surname=%{customdata[1]}<br>name=%{customdata[2]}<extra></extra>\",\"legendgroup\":\"Circuit de Spa-Francorchamps\",\"line\":{\"color\":\"#636efa\",\"dash\":\"solid\"},\"marker\":{\"symbol\":\"circle\"},\"mode\":\"lines\",\"name\":\"Circuit de Spa-Francorchamps\",\"orientation\":\"v\",\"showlegend\":true,\"type\":\"scatter\",\"x\":[2008,2007,2010,2016,2009,2005,2004,2011,2012,2013,2013,2014,2017,2017,2015],\"xaxis\":\"x\",\"y\":[107.9,108.0,109.1,111.6,107.3,111.5,105.1,109.9,112.8,110.8,110.8,110.5,106.6,106.6,112.4],\"yaxis\":\"y\"},{\"customdata\":[[\"Italian Grand Prix\",\"R\\ufffd_ikk\\u0326nen\",\"Ferrari\"],[\"Italian Grand Prix\",\"Hamilton\",\"McLaren\"],[\"Italian Grand Prix\",\"Alonso\",\"McLaren\"],[\"Italian Grand Prix\",\"Hamilton\",\"McLaren\"],[\"Italian Grand Prix\",\"Button\",\"McLaren\"],[\"Italian Grand Prix\",\"Rosberg\",\"Mercedes\"],[\"Italian Grand Prix\",\"Sutil\",\"Force India\"],[\"Italian Grand Prix\",\"R\\ufffd_ikk\\u0326nen\",\"McLaren\"],[\"Italian Grand Prix\",\"Schumacher\",\"Ferrari\"],[\"Italian Grand Prix\",\"R\\ufffd_ikk\\u0326nen\",\"McLaren\"],[\"Italian Grand Prix\",\"Barrichello\",\"Ferrari\"],[\"Italian Grand Prix\",\"Alonso\",\"Ferrari\"],[\"Italian Grand Prix\",\"Hamilton\",\"Mercedes\"],[\"Italian Grand Prix\",\"Hamilton\",\"Mercedes\"],[\"Italian Grand Prix\",\"Hamilton\",\"Mercedes\"],[\"Italian Grand Prix\",\"Alonso\",\"McLaren\"],[\"Italian Grand Prix\",\"Ricciardo\",\"Red Bull\"]],\"hovertemplate\":\"circuit_name=Autodromo Nazionale di Monza<br>year=%{x}<br>fastestLapSeconds=%{y}<br>race_name=%{customdata[0]}<br>surname=%{customdata[1]}<br>name=%{customdata[2]}<extra></extra>\",\"legendgroup\":\"Autodromo Nazionale di Monza\",\"line\":{\"color\":\"#EF553B\",\"dash\":\"solid\"},\"marker\":{\"symbol\":\"circle\"},\"mode\":\"lines\",\"name\":\"Autodromo Nazionale di Monza\",\"orientation\":\"v\",\"showlegend\":true,\"type\":\"scatter\",\"x\":[2008,2007,2007,2011,2011,2012,2009,2006,2006,2005,2004,2010,2013,2014,2015,2016,2017],\"xaxis\":\"x\",\"y\":[88.0,82.9,82.9,86.2,86.2,87.2,84.7,82.6,82.6,81.5,81.0,84.1,85.8,88.0,86.7,85.3,83.4],\"yaxis\":\"y\"},{\"customdata\":[[\"Singapore Grand Prix\",\"R\\ufffd_ikk\\u0326nen\",\"Ferrari\"],[\"Singapore Grand Prix\",\"Alonso\",\"Renault\"],[\"Singapore Grand Prix\",\"Button\",\"McLaren\"],[\"Singapore Grand Prix\",\"Ricciardo\",\"Red Bull\"],[\"Singapore Grand Prix\",\"Alonso\",\"Ferrari\"],[\"Singapore Grand Prix\",\"H\\ufffd_lkenberg\",\"Force India\"],[\"Singapore Grand Prix\",\"Vettel\",\"Red Bull\"],[\"Singapore Grand Prix\",\"Hamilton\",\"Mercedes\"],[\"Singapore Grand Prix\",\"Hamilton\",\"Mercedes\"],[\"Singapore Grand Prix\",\"Ricciardo\",\"Red Bull\"]],\"hovertemplate\":\"circuit_name=Marina Bay Street Circuit<br>year=%{x}<br>fastestLapSeconds=%{y}<br>race_name=%{customdata[0]}<br>surname=%{customdata[1]}<br>name=%{customdata[2]}<extra></extra>\",\"legendgroup\":\"Marina Bay Street Circuit\",\"line\":{\"color\":\"#00cc96\",\"dash\":\"solid\"},\"marker\":{\"symbol\":\"circle\"},\"mode\":\"lines\",\"name\":\"Marina Bay Street Circuit\",\"orientation\":\"v\",\"showlegend\":true,\"type\":\"scatter\",\"x\":[2008,2009,2011,2016,2010,2012,2013,2014,2017,2015],\"xaxis\":\"x\",\"y\":[105.6,108.2,108.5,107.2,108.0,111.0,108.6,110.4,105.0,110.0],\"yaxis\":\"y\"},{\"customdata\":[[\"Japanese Grand Prix\",\"Massa\",\"Ferrari\"],[\"Japanese Grand Prix\",\"Hamilton\",\"McLaren\"]],\"hovertemplate\":\"circuit_name=Fuji Speedway<br>year=%{x}<br>fastestLapSeconds=%{y}<br>race_name=%{customdata[0]}<br>surname=%{customdata[1]}<br>name=%{customdata[2]}<extra></extra>\",\"legendgroup\":\"Fuji Speedway\",\"line\":{\"color\":\"#ab63fa\",\"dash\":\"solid\"},\"marker\":{\"symbol\":\"circle\"},\"mode\":\"lines\",\"name\":\"Fuji Speedway\",\"orientation\":\"v\",\"showlegend\":true,\"type\":\"scatter\",\"x\":[2008,2007],\"xaxis\":\"x\",\"y\":[78.4,88.2],\"yaxis\":\"y\"},{\"customdata\":[[\"Chinese Grand Prix\",\"Hamilton\",\"McLaren\"],[\"Chinese Grand Prix\",\"Vettel\",\"Red Bull\"],[\"Chinese Grand Prix\",\"Barrichello\",\"Brawn\"],[\"Chinese Grand Prix\",\"Hamilton\",\"McLaren\"],[\"Chinese Grand Prix\",\"Kobayashi\",\"Sauber\"],[\"Chinese Grand Prix\",\"Vergne\",\"Toro Rosso\"],[\"Chinese Grand Prix\",\"Massa\",\"Ferrari\"],[\"Chinese Grand Prix\",\"H\\ufffd_lkenberg\",\"Force India\"],[\"Chinese Grand Prix\",\"R\\ufffd_ikk\\u0326nen\",\"McLaren\"],[\"Chinese Grand Prix\",\"Schumacher\",\"Ferrari\"],[\"Chinese Grand Prix\",\"Vettel\",\"Red Bull\"],[\"Chinese Grand Prix\",\"Alonso\",\"Renault\"],[\"Chinese Grand Prix\",\"Rosberg\",\"Mercedes\"],[\"Chinese Grand Prix\",\"Hamilton\",\"Mercedes\"],[\"Chinese Grand Prix\",\"Hamilton\",\"Mercedes\"],[\"Chinese Grand Prix\",\"Vettel\",\"Ferrari\"]],\"hovertemplate\":\"circuit_name=Shanghai International Circuit<br>year=%{x}<br>fastestLapSeconds=%{y}<br>race_name=%{customdata[0]}<br>surname=%{customdata[1]}<br>name=%{customdata[2]}<extra></extra>\",\"legendgroup\":\"Shanghai International Circuit\",\"line\":{\"color\":\"#FFA15A\",\"dash\":\"solid\"},\"marker\":{\"symbol\":\"circle\"},\"mode\":\"lines\",\"name\":\"Shanghai International Circuit\",\"orientation\":\"v\",\"showlegend\":true,\"type\":\"scatter\",\"x\":[2008,2009,2009,2010,2012,2012,2007,2016,2005,2004,2013,2006,2014,2015,2017,2017],\"xaxis\":\"x\",\"y\":[96.3,112.6,112.6,102.1,100.0,100.0,97.5,99.8,93.2,92.2,96.8,97.6,100.4,102.2,95.4,95.4],\"yaxis\":\"y\"},{\"customdata\":[[\"Brazilian Grand Prix\",\"Massa\",\"Ferrari\"],[\"Brazilian Grand Prix\",\"Webber\",\"Red Bull\"],[\"Brazilian Grand Prix\",\"Hamilton\",\"McLaren\"],[\"Brazilian Grand Prix\",\"Button\",\"McLaren\"],[\"Brazilian Grand Prix\",\"Alonso\",\"Ferrari\"],[\"Brazilian Grand Prix\",\"R\\ufffd_ikk\\u0326nen\",\"Ferrari\"],[\"Brazilian Grand Prix\",\"Verstappen\",\"Red Bull\"],[\"Brazilian Grand Prix\",\"Verstappen\",\"Red Bull\"],[\"Brazilian Grand Prix\",\"Schumacher\",\"Ferrari\"],[\"Brazilian Grand Prix\",\"R\\ufffd_ikk\\u0326nen\",\"McLaren\"],[\"Brazilian Grand Prix\",\"Pablo Montoya\",\"Williams\"],[\"Brazilian Grand Prix\",\"Webber\",\"Red Bull\"],[\"Brazilian Grand Prix\",\"Button\",\"McLaren\"],[\"Brazilian Grand Prix\",\"Hamilton\",\"McLaren\"],[\"Brazilian Grand Prix\",\"Webber\",\"Red Bull\"],[\"Brazilian Grand Prix\",\"Hamilton\",\"Mercedes\"],[\"Brazilian Grand Prix\",\"Rosberg\",\"Mercedes\"],[\"Brazilian Grand Prix\",\"Hamilton\",\"Mercedes\"]],\"hovertemplate\":\"circuit_name=Aut\\ufffd_dromo Jos\\u0329 Carlos Pace<br>year=%{x}<br>fastestLapSeconds=%{y}<br>race_name=%{customdata[0]}<br>surname=%{customdata[1]}<br>name=%{customdata[2]}<extra></extra>\",\"legendgroup\":\"Aut\\ufffd_dromo Jos\\u0329 Carlos Pace\",\"line\":{\"color\":\"#19d3f3\",\"dash\":\"solid\"},\"marker\":{\"symbol\":\"circle\"},\"mode\":\"lines\",\"name\":\"Aut\\ufffd_dromo Jos\\u0329 Carlos Pace\",\"orientation\":\"v\",\"showlegend\":true,\"type\":\"scatter\",\"x\":[2008,2009,2010,2010,2010,2007,2016,2017,2006,2005,2004,2011,2012,2012,2013,2014,2014,2015],\"xaxis\":\"x\",\"y\":[73.7,73.7,73.9,73.9,73.9,72.4,85.3,71.0,72.2,72.3,71.5,75.3,78.1,78.1,75.4,73.6,73.6,74.8],\"yaxis\":\"y\"},{\"customdata\":[[\"Bahrain Grand Prix\",\"Massa\",\"Ferrari\"],[\"Bahrain Grand Prix\",\"Glock\",\"Toyota\"],[\"Bahrain Grand Prix\",\"Trulli\",\"Toyota\"],[\"Bahrain Grand Prix\",\"Button\",\"Brawn\"],[\"Bahrain Grand Prix\",\"Alonso\",\"Ferrari\"],[\"Bahrain Grand Prix\",\"Vettel\",\"Red Bull\"],[\"Bahrain Grand Prix\",\"Kovalainen\",\"McLaren\"],[\"Bahrain Grand Prix\",\"Rosberg\",\"Williams\"],[\"Bahrain Grand Prix\",\"de la Rosa\",\"McLaren\"],[\"Bahrain Grand Prix\",\"Vettel\",\"Red Bull\"],[\"Bahrain Grand Prix\",\"Rosberg\",\"Mercedes\"],[\"Bahrain Grand Prix\",\"R\\ufffd_ikk\\u0326nen\",\"Ferrari\"],[\"Bahrain Grand Prix\",\"Rosberg\",\"Mercedes\"],[\"Bahrain Grand Prix\",\"Hamilton\",\"Mercedes\"],[\"Bahrain Grand Prix\",\"Schumacher\",\"Ferrari\"]],\"hovertemplate\":\"circuit_name=Bahrain International Circuit<br>year=%{x}<br>fastestLapSeconds=%{y}<br>race_name=%{customdata[0]}<br>surname=%{customdata[1]}<br>name=%{customdata[2]}<extra></extra>\",\"legendgroup\":\"Bahrain International Circuit\",\"line\":{\"color\":\"#FF6692\",\"dash\":\"solid\"},\"marker\":{\"symbol\":\"circle\"},\"mode\":\"lines\",\"name\":\"Bahrain International Circuit\",\"orientation\":\"v\",\"showlegend\":true,\"type\":\"scatter\",\"x\":[2007,2009,2009,2009,2010,2012,2008,2006,2005,2013,2014,2015,2016,2017,2004],\"xaxis\":\"x\",\"y\":[94.1,94.6,94.6,94.6,118.3,96.4,93.2,92.4,91.4,97.0,97.0,96.3,94.5,92.8,90.3],\"yaxis\":\"y\"},{\"customdata\":[[\"Canadian Grand Prix\",\"Alonso\",\"McLaren\"],[\"Canadian Grand Prix\",\"Kubica\",\"Renault\"],[\"Canadian Grand Prix\",\"Vettel\",\"Red Bull\"],[\"Canadian Grand Prix\",\"Heidfeld\",\"BMW Sauber\"],[\"Canadian Grand Prix\",\"R\\ufffd_ikk\\u0326nen\",\"Ferrari\"],[\"Canadian Grand Prix\",\"R\\ufffd_ikk\\u0326nen\",\"McLaren\"],[\"Canadian Grand Prix\",\"R\\ufffd_ikk\\u0326nen\",\"McLaren\"],[\"Canadian Grand Prix\",\"Button\",\"McLaren\"],[\"Canadian Grand Prix\",\"R\\ufffd_ikk\\u0326nen\",\"Ferrari\"],[\"Canadian Grand Prix\",\"Massa\",\"Williams\"],[\"Canadian Grand Prix\",\"Alonso\",\"Ferrari\"],[\"Canadian Grand Prix\",\"Webber\",\"Red Bull\"],[\"Canadian Grand Prix\",\"R\\ufffd_ikk\\u0326nen\",\"Ferrari\"],[\"Canadian Grand Prix\",\"Rosberg\",\"Mercedes\"],[\"Canadian Grand Prix\",\"Hamilton\",\"Mercedes\"],[\"Canadian Grand Prix\",\"Barrichello\",\"Ferrari\"],[\"Canadian Grand Prix\",\"Schumacher\",\"Ferrari\"]],\"hovertemplate\":\"circuit_name=Circuit Gilles Villeneuve<br>year=%{x}<br>fastestLapSeconds=%{y}<br>race_name=%{customdata[0]}<br>surname=%{customdata[1]}<br>name=%{customdata[2]}<extra></extra>\",\"legendgroup\":\"Circuit Gilles Villeneuve\",\"line\":{\"color\":\"#B6E880\",\"dash\":\"solid\"},\"marker\":{\"symbol\":\"circle\"},\"mode\":\"lines\",\"name\":\"Circuit Gilles Villeneuve\",\"orientation\":\"v\",\"showlegend\":true,\"type\":\"scatter\",\"x\":[2007,2010,2012,2008,2008,2006,2005,2011,2014,2014,2013,2013,2015,2016,2017,2004,2004],\"xaxis\":\"x\",\"y\":[76.4,77.0,75.8,77.4,77.4,75.8,74.4,77.0,78.5,78.5,76.2,76.2,77.0,75.6,74.6,73.6,73.6],\"yaxis\":\"y\"},{\"customdata\":[[\"United States Grand Prix\",\"R\\ufffd_ikk\\u0326nen\",\"Ferrari\"],[\"United States Grand Prix\",\"Schumacher\",\"Ferrari\"],[\"United States Grand Prix\",\"Barrichello\",\"Ferrari\"],[\"United States Grand Prix\",\"Schumacher\",\"Ferrari\"],[\"United States Grand Prix\",\"Schumacher\",\"Ferrari\"]],\"hovertemplate\":\"circuit_name=Indianapolis Motor Speedway<br>year=%{x}<br>fastestLapSeconds=%{y}<br>race_name=%{customdata[0]}<br>surname=%{customdata[1]}<br>name=%{customdata[2]}<extra></extra>\",\"legendgroup\":\"Indianapolis Motor Speedway\",\"line\":{\"color\":\"#FF97FF\",\"dash\":\"solid\"},\"marker\":{\"symbol\":\"circle\"},\"mode\":\"lines\",\"name\":\"Indianapolis Motor Speedway\",\"orientation\":\"v\",\"showlegend\":true,\"type\":\"scatter\",\"x\":[2007,2006,2004,2004,2005],\"xaxis\":\"x\",\"y\":[73.1,72.7,70.4,70.4,71.5],\"yaxis\":\"y\"},{\"customdata\":[[\"Japanese Grand Prix\",\"Vettel\",\"Red Bull\"],[\"Japanese Grand Prix\",\"Webber\",\"Red Bull\"],[\"Japanese Grand Prix\",\"Button\",\"McLaren\"],[\"Japanese Grand Prix\",\"Webber\",\"Red Bull\"],[\"Japanese Grand Prix\",\"Button\",\"McLaren\"],[\"Japanese Grand Prix\",\"Rosberg\",\"Mercedes\"],[\"Japanese Grand Prix\",\"P\\u0329rez\",\"Sauber\"],[\"Japanese Grand Prix\",\"Vettel\",\"Red Bull\"],[\"Japanese Grand Prix\",\"Alonso\",\"Renault\"],[\"Japanese Grand Prix\",\"R\\ufffd_ikk\\u0326nen\",\"McLaren\"],[\"Japanese Grand Prix\",\"Barrichello\",\"Ferrari\"],[\"Japanese Grand Prix\",\"Webber\",\"Red Bull\"],[\"Japanese Grand Prix\",\"Hamilton\",\"Mercedes\"],[\"Japanese Grand Prix\",\"Hamilton\",\"Mercedes\"],[\"Japanese Grand Prix\",\"Vettel\",\"Ferrari\"],[\"Japanese Grand Prix\",\"Bottas\",\"Mercedes\"]],\"hovertemplate\":\"circuit_name=Suzuka Circuit<br>year=%{x}<br>fastestLapSeconds=%{y}<br>race_name=%{customdata[0]}<br>surname=%{customdata[1]}<br>name=%{customdata[2]}<extra></extra>\",\"legendgroup\":\"Suzuka Circuit\",\"line\":{\"color\":\"#FECB52\",\"dash\":\"solid\"},\"marker\":{\"symbol\":\"circle\"},\"mode\":\"lines\",\"name\":\"Suzuka Circuit\",\"orientation\":\"v\",\"showlegend\":true,\"type\":\"scatter\",\"x\":[2009,2009,2010,2010,2011,2011,2011,2012,2006,2005,2004,2013,2014,2015,2016,2017],\"xaxis\":\"x\",\"y\":[92.6,92.6,93.5,93.5,96.6,96.6,96.6,95.8,92.7,91.5,92.7,94.6,111.6,96.1,95.1,93.1],\"yaxis\":\"y\"},{\"customdata\":[[\"Korean Grand Prix\",\"Alonso\",\"Ferrari\"],[\"Korean Grand Prix\",\"Vettel\",\"Red Bull\"],[\"Korean Grand Prix\",\"Webber\",\"Red Bull\"],[\"Korean Grand Prix\",\"Vettel\",\"Red Bull\"]],\"hovertemplate\":\"circuit_name=Korean International Circuit<br>year=%{x}<br>fastestLapSeconds=%{y}<br>race_name=%{customdata[0]}<br>surname=%{customdata[1]}<br>name=%{customdata[2]}<extra></extra>\",\"legendgroup\":\"Korean International Circuit\",\"line\":{\"color\":\"#636efa\",\"dash\":\"solid\"},\"marker\":{\"symbol\":\"circle\"},\"mode\":\"lines\",\"name\":\"Korean International Circuit\",\"orientation\":\"v\",\"showlegend\":true,\"type\":\"scatter\",\"x\":[2010,2011,2012,2013],\"xaxis\":\"x\",\"y\":[110.3,99.6,102.0,101.4],\"yaxis\":\"y\"},{\"customdata\":[[\"Abu Dhabi Grand Prix\",\"Hamilton\",\"McLaren\"],[\"Abu Dhabi Grand Prix\",\"Webber\",\"Red Bull\"],[\"Abu Dhabi Grand Prix\",\"Vettel\",\"Ferrari\"],[\"Abu Dhabi Grand Prix\",\"Buemi\",\"Toro Rosso\"],[\"Abu Dhabi Grand Prix\",\"Vettel\",\"Red Bull\"],[\"Abu Dhabi Grand Prix\",\"Vettel\",\"Red Bull\"],[\"Abu Dhabi Grand Prix\",\"Alonso\",\"Ferrari\"],[\"Abu Dhabi Grand Prix\",\"Ricciardo\",\"Red Bull\"],[\"Abu Dhabi Grand Prix\",\"Hamilton\",\"Mercedes\"],[\"Abu Dhabi Grand Prix\",\"Bottas\",\"Mercedes\"]],\"hovertemplate\":\"circuit_name=Yas Marina Circuit<br>year=%{x}<br>fastestLapSeconds=%{y}<br>race_name=%{customdata[0]}<br>surname=%{customdata[1]}<br>name=%{customdata[2]}<extra></extra>\",\"legendgroup\":\"Yas Marina Circuit\",\"line\":{\"color\":\"#EF553B\",\"dash\":\"solid\"},\"marker\":{\"symbol\":\"circle\"},\"mode\":\"lines\",\"name\":\"Yas Marina Circuit\",\"orientation\":\"v\",\"showlegend\":true,\"type\":\"scatter\",\"x\":[2010,2011,2016,2009,2009,2012,2013,2014,2015,2017],\"xaxis\":\"x\",\"y\":[101.3,102.6,103.7,100.3,100.3,104.0,103.4,104.5,104.5,100.7],\"yaxis\":\"y\"},{\"customdata\":[[\"German Grand Prix\",\"Hamilton\",\"McLaren\"],[\"European Grand Prix\",\"Massa\",\"Ferrari\"],[\"German Grand Prix\",\"Alonso\",\"Renault\"],[\"European Grand Prix\",\"Schumacher\",\"Ferrari\"],[\"German Grand Prix\",\"Alonso\",\"Ferrari\"],[\"European Grand Prix\",\"Alonso\",\"Renault\"],[\"European Grand Prix\",\"Schumacher\",\"Ferrari\"]],\"hovertemplate\":\"circuit_name=N\\ufffd_rburgring<br>year=%{x}<br>fastestLapSeconds=%{y}<br>race_name=%{customdata[0]}<br>surname=%{customdata[1]}<br>name=%{customdata[2]}<extra></extra>\",\"legendgroup\":\"N\\ufffd_rburgring\",\"line\":{\"color\":\"#00cc96\",\"dash\":\"solid\"},\"marker\":{\"symbol\":\"circle\"},\"mode\":\"lines\",\"name\":\"N\\ufffd_rburgring\",\"orientation\":\"v\",\"showlegend\":true,\"type\":\"scatter\",\"x\":[2011,2007,2009,2006,2013,2005,2004],\"xaxis\":\"x\",\"y\":[94.3,92.9,93.4,92.1,93.5,90.7,89.5],\"yaxis\":\"y\"},{\"customdata\":[[\"Indian Grand Prix\",\"Vettel\",\"Red Bull\"],[\"Indian Grand Prix\",\"Button\",\"McLaren\"],[\"Indian Grand Prix\",\"R\\ufffd_ikk\\u0326nen\",\"Lotus F1\"]],\"hovertemplate\":\"circuit_name=Buddh International Circuit<br>year=%{x}<br>fastestLapSeconds=%{y}<br>race_name=%{customdata[0]}<br>surname=%{customdata[1]}<br>name=%{customdata[2]}<extra></extra>\",\"legendgroup\":\"Buddh International Circuit\",\"line\":{\"color\":\"#ab63fa\",\"dash\":\"solid\"},\"marker\":{\"symbol\":\"circle\"},\"mode\":\"lines\",\"name\":\"Buddh International Circuit\",\"orientation\":\"v\",\"showlegend\":true,\"type\":\"scatter\",\"x\":[2011,2012,2013],\"xaxis\":\"x\",\"y\":[87.2,88.2,87.7],\"yaxis\":\"y\"},{\"customdata\":[[\"United States Grand Prix\",\"Vettel\",\"Red Bull\"],[\"United States Grand Prix\",\"Hamilton\",\"Mercedes\"],[\"United States Grand Prix\",\"Rosberg\",\"Mercedes\"],[\"United States Grand Prix\",\"Vettel\",\"Ferrari\"],[\"United States Grand Prix\",\"Vettel\",\"Red Bull\"],[\"United States Grand Prix\",\"Vettel\",\"Red Bull\"],[\"United States Grand Prix\",\"Bottas\",\"Mercedes\"],[\"United States Grand Prix\",\"R\\ufffd_ikk\\u0326nen\",\"Ferrari\"]],\"hovertemplate\":\"circuit_name=Circuit of the Americas<br>year=%{x}<br>fastestLapSeconds=%{y}<br>race_name=%{customdata[0]}<br>surname=%{customdata[1]}<br>name=%{customdata[2]}<extra></extra>\",\"legendgroup\":\"Circuit of the Americas\",\"line\":{\"color\":\"#FFA15A\",\"dash\":\"solid\"},\"marker\":{\"symbol\":\"circle\"},\"mode\":\"lines\",\"name\":\"Circuit of the Americas\",\"orientation\":\"v\",\"showlegend\":true,\"type\":\"scatter\",\"x\":[2012,2015,2015,2016,2013,2014,2017,2017],\"xaxis\":\"x\",\"y\":[99.3,100.7,100.7,99.9,99.9,101.4,97.8,97.8],\"yaxis\":\"y\"},{\"customdata\":[[\"Russian Grand Prix\",\"Vettel\",\"Ferrari\"],[\"Russian Grand Prix\",\"Bottas\",\"Williams\"],[\"Russian Grand Prix\",\"Rosberg\",\"Mercedes\"],[\"Russian Grand Prix\",\"R\\ufffd_ikk\\u0326nen\",\"Ferrari\"]],\"hovertemplate\":\"circuit_name=Sochi Autodrom<br>year=%{x}<br>fastestLapSeconds=%{y}<br>race_name=%{customdata[0]}<br>surname=%{customdata[1]}<br>name=%{customdata[2]}<extra></extra>\",\"legendgroup\":\"Sochi Autodrom\",\"line\":{\"color\":\"#19d3f3\",\"dash\":\"solid\"},\"marker\":{\"symbol\":\"circle\"},\"mode\":\"lines\",\"name\":\"Sochi Autodrom\",\"orientation\":\"v\",\"showlegend\":true,\"type\":\"scatter\",\"x\":[2015,2014,2016,2017],\"xaxis\":\"x\",\"y\":[100.1,100.9,99.1,96.8],\"yaxis\":\"y\"},{\"customdata\":[[\"Azerbaijan Grand Prix\",\"Vettel\",\"Ferrari\"],[\"European Grand Prix\",\"Rosberg\",\"Mercedes\"]],\"hovertemplate\":\"circuit_name=Baku City Circuit<br>year=%{x}<br>fastestLapSeconds=%{y}<br>race_name=%{customdata[0]}<br>surname=%{customdata[1]}<br>name=%{customdata[2]}<extra></extra>\",\"legendgroup\":\"Baku City Circuit\",\"line\":{\"color\":\"#FF6692\",\"dash\":\"solid\"},\"marker\":{\"symbol\":\"circle\"},\"mode\":\"lines\",\"name\":\"Baku City Circuit\",\"orientation\":\"v\",\"showlegend\":true,\"type\":\"scatter\",\"x\":[2017,2016],\"xaxis\":\"x\",\"y\":[103.4,106.5],\"yaxis\":\"y\"},{\"customdata\":[[\"San Marino Grand Prix\",\"Alonso\",\"Renault\"],[\"San Marino Grand Prix\",\"Schumacher\",\"Ferrari\"],[\"San Marino Grand Prix\",\"Schumacher\",\"Ferrari\"],[\"San Marino Grand Prix\",\"Schumacher\",\"Ferrari\"]],\"hovertemplate\":\"circuit_name=Autodromo Enzo e Dino Ferrari<br>year=%{x}<br>fastestLapSeconds=%{y}<br>race_name=%{customdata[0]}<br>surname=%{customdata[1]}<br>name=%{customdata[2]}<extra></extra>\",\"legendgroup\":\"Autodromo Enzo e Dino Ferrari\",\"line\":{\"color\":\"#B6E880\",\"dash\":\"solid\"},\"marker\":{\"symbol\":\"circle\"},\"mode\":\"lines\",\"name\":\"Autodromo Enzo e Dino Ferrari\",\"orientation\":\"v\",\"showlegend\":true,\"type\":\"scatter\",\"x\":[2006,2006,2005,2004],\"xaxis\":\"x\",\"y\":[84.6,84.6,81.9,80.4],\"yaxis\":\"y\"},{\"customdata\":[[\"Austrian Grand Prix\",\"P\\u0329rez\",\"Force India\"],[\"Austrian Grand Prix\",\"Hamilton\",\"Mercedes\"],[\"Austrian Grand Prix\",\"Rosberg\",\"Mercedes\"],[\"Austrian Grand Prix\",\"Hamilton\",\"Mercedes\"],[\"Austrian Grand Prix\",\"Ricciardo\",\"Red Bull\"]],\"hovertemplate\":\"circuit_name=Red Bull Ring<br>year=%{x}<br>fastestLapSeconds=%{y}<br>race_name=%{customdata[0]}<br>surname=%{customdata[1]}<br>name=%{customdata[2]}<extra></extra>\",\"legendgroup\":\"Red Bull Ring\",\"line\":{\"color\":\"#FF97FF\",\"dash\":\"solid\"},\"marker\":{\"symbol\":\"circle\"},\"mode\":\"lines\",\"name\":\"Red Bull Ring\",\"orientation\":\"v\",\"showlegend\":true,\"type\":\"scatter\",\"x\":[2014,2016,2015,2017,2017],\"xaxis\":\"x\",\"y\":[72.1,68.4,71.2,67.4,67.4],\"yaxis\":\"y\"},{\"customdata\":[[\"Mexican Grand Prix\",\"Rosberg\",\"Mercedes\"],[\"Mexican Grand Prix\",\"Ricciardo\",\"Red Bull\"],[\"Mexican Grand Prix\",\"Vettel\",\"Ferrari\"]],\"hovertemplate\":\"circuit_name=Aut\\ufffd_dromo Hermanos Rodr\\ufffd_guez<br>year=%{x}<br>fastestLapSeconds=%{y}<br>race_name=%{customdata[0]}<br>surname=%{customdata[1]}<br>name=%{customdata[2]}<extra></extra>\",\"legendgroup\":\"Aut\\ufffd_dromo Hermanos Rodr\\ufffd_guez\",\"line\":{\"color\":\"#FECB52\",\"dash\":\"solid\"},\"marker\":{\"symbol\":\"circle\"},\"mode\":\"lines\",\"name\":\"Aut\\ufffd_dromo Hermanos Rodr\\ufffd_guez\",\"orientation\":\"v\",\"showlegend\":true,\"type\":\"scatter\",\"x\":[2015,2016,2017],\"xaxis\":\"x\",\"y\":[80.5,81.1,78.8],\"yaxis\":\"y\"}],                        {\"legend\":{\"title\":{\"text\":\"circuit_name\"},\"tracegroupgap\":0},\"margin\":{\"t\":60},\"template\":{\"data\":{\"bar\":[{\"error_x\":{\"color\":\"#2a3f5f\"},\"error_y\":{\"color\":\"#2a3f5f\"},\"marker\":{\"line\":{\"color\":\"#E5ECF6\",\"width\":0.5},\"pattern\":{\"fillmode\":\"overlay\",\"size\":10,\"solidity\":0.2}},\"type\":\"bar\"}],\"barpolar\":[{\"marker\":{\"line\":{\"color\":\"#E5ECF6\",\"width\":0.5},\"pattern\":{\"fillmode\":\"overlay\",\"size\":10,\"solidity\":0.2}},\"type\":\"barpolar\"}],\"carpet\":[{\"aaxis\":{\"endlinecolor\":\"#2a3f5f\",\"gridcolor\":\"white\",\"linecolor\":\"white\",\"minorgridcolor\":\"white\",\"startlinecolor\":\"#2a3f5f\"},\"baxis\":{\"endlinecolor\":\"#2a3f5f\",\"gridcolor\":\"white\",\"linecolor\":\"white\",\"minorgridcolor\":\"white\",\"startlinecolor\":\"#2a3f5f\"},\"type\":\"carpet\"}],\"choropleth\":[{\"colorbar\":{\"outlinewidth\":0,\"ticks\":\"\"},\"type\":\"choropleth\"}],\"contour\":[{\"colorbar\":{\"outlinewidth\":0,\"ticks\":\"\"},\"colorscale\":[[0.0,\"#0d0887\"],[0.1111111111111111,\"#46039f\"],[0.2222222222222222,\"#7201a8\"],[0.3333333333333333,\"#9c179e\"],[0.4444444444444444,\"#bd3786\"],[0.5555555555555556,\"#d8576b\"],[0.6666666666666666,\"#ed7953\"],[0.7777777777777778,\"#fb9f3a\"],[0.8888888888888888,\"#fdca26\"],[1.0,\"#f0f921\"]],\"type\":\"contour\"}],\"contourcarpet\":[{\"colorbar\":{\"outlinewidth\":0,\"ticks\":\"\"},\"type\":\"contourcarpet\"}],\"heatmap\":[{\"colorbar\":{\"outlinewidth\":0,\"ticks\":\"\"},\"colorscale\":[[0.0,\"#0d0887\"],[0.1111111111111111,\"#46039f\"],[0.2222222222222222,\"#7201a8\"],[0.3333333333333333,\"#9c179e\"],[0.4444444444444444,\"#bd3786\"],[0.5555555555555556,\"#d8576b\"],[0.6666666666666666,\"#ed7953\"],[0.7777777777777778,\"#fb9f3a\"],[0.8888888888888888,\"#fdca26\"],[1.0,\"#f0f921\"]],\"type\":\"heatmap\"}],\"heatmapgl\":[{\"colorbar\":{\"outlinewidth\":0,\"ticks\":\"\"},\"colorscale\":[[0.0,\"#0d0887\"],[0.1111111111111111,\"#46039f\"],[0.2222222222222222,\"#7201a8\"],[0.3333333333333333,\"#9c179e\"],[0.4444444444444444,\"#bd3786\"],[0.5555555555555556,\"#d8576b\"],[0.6666666666666666,\"#ed7953\"],[0.7777777777777778,\"#fb9f3a\"],[0.8888888888888888,\"#fdca26\"],[1.0,\"#f0f921\"]],\"type\":\"heatmapgl\"}],\"histogram\":[{\"marker\":{\"pattern\":{\"fillmode\":\"overlay\",\"size\":10,\"solidity\":0.2}},\"type\":\"histogram\"}],\"histogram2d\":[{\"colorbar\":{\"outlinewidth\":0,\"ticks\":\"\"},\"colorscale\":[[0.0,\"#0d0887\"],[0.1111111111111111,\"#46039f\"],[0.2222222222222222,\"#7201a8\"],[0.3333333333333333,\"#9c179e\"],[0.4444444444444444,\"#bd3786\"],[0.5555555555555556,\"#d8576b\"],[0.6666666666666666,\"#ed7953\"],[0.7777777777777778,\"#fb9f3a\"],[0.8888888888888888,\"#fdca26\"],[1.0,\"#f0f921\"]],\"type\":\"histogram2d\"}],\"histogram2dcontour\":[{\"colorbar\":{\"outlinewidth\":0,\"ticks\":\"\"},\"colorscale\":[[0.0,\"#0d0887\"],[0.1111111111111111,\"#46039f\"],[0.2222222222222222,\"#7201a8\"],[0.3333333333333333,\"#9c179e\"],[0.4444444444444444,\"#bd3786\"],[0.5555555555555556,\"#d8576b\"],[0.6666666666666666,\"#ed7953\"],[0.7777777777777778,\"#fb9f3a\"],[0.8888888888888888,\"#fdca26\"],[1.0,\"#f0f921\"]],\"type\":\"histogram2dcontour\"}],\"mesh3d\":[{\"colorbar\":{\"outlinewidth\":0,\"ticks\":\"\"},\"type\":\"mesh3d\"}],\"parcoords\":[{\"line\":{\"colorbar\":{\"outlinewidth\":0,\"ticks\":\"\"}},\"type\":\"parcoords\"}],\"pie\":[{\"automargin\":true,\"type\":\"pie\"}],\"scatter\":[{\"marker\":{\"colorbar\":{\"outlinewidth\":0,\"ticks\":\"\"}},\"type\":\"scatter\"}],\"scatter3d\":[{\"line\":{\"colorbar\":{\"outlinewidth\":0,\"ticks\":\"\"}},\"marker\":{\"colorbar\":{\"outlinewidth\":0,\"ticks\":\"\"}},\"type\":\"scatter3d\"}],\"scattercarpet\":[{\"marker\":{\"colorbar\":{\"outlinewidth\":0,\"ticks\":\"\"}},\"type\":\"scattercarpet\"}],\"scattergeo\":[{\"marker\":{\"colorbar\":{\"outlinewidth\":0,\"ticks\":\"\"}},\"type\":\"scattergeo\"}],\"scattergl\":[{\"marker\":{\"colorbar\":{\"outlinewidth\":0,\"ticks\":\"\"}},\"type\":\"scattergl\"}],\"scattermapbox\":[{\"marker\":{\"colorbar\":{\"outlinewidth\":0,\"ticks\":\"\"}},\"type\":\"scattermapbox\"}],\"scatterpolar\":[{\"marker\":{\"colorbar\":{\"outlinewidth\":0,\"ticks\":\"\"}},\"type\":\"scatterpolar\"}],\"scatterpolargl\":[{\"marker\":{\"colorbar\":{\"outlinewidth\":0,\"ticks\":\"\"}},\"type\":\"scatterpolargl\"}],\"scatterternary\":[{\"marker\":{\"colorbar\":{\"outlinewidth\":0,\"ticks\":\"\"}},\"type\":\"scatterternary\"}],\"surface\":[{\"colorbar\":{\"outlinewidth\":0,\"ticks\":\"\"},\"colorscale\":[[0.0,\"#0d0887\"],[0.1111111111111111,\"#46039f\"],[0.2222222222222222,\"#7201a8\"],[0.3333333333333333,\"#9c179e\"],[0.4444444444444444,\"#bd3786\"],[0.5555555555555556,\"#d8576b\"],[0.6666666666666666,\"#ed7953\"],[0.7777777777777778,\"#fb9f3a\"],[0.8888888888888888,\"#fdca26\"],[1.0,\"#f0f921\"]],\"type\":\"surface\"}],\"table\":[{\"cells\":{\"fill\":{\"color\":\"#EBF0F8\"},\"line\":{\"color\":\"white\"}},\"header\":{\"fill\":{\"color\":\"#C8D4E3\"},\"line\":{\"color\":\"white\"}},\"type\":\"table\"}]},\"layout\":{\"annotationdefaults\":{\"arrowcolor\":\"#2a3f5f\",\"arrowhead\":0,\"arrowwidth\":1},\"autotypenumbers\":\"strict\",\"coloraxis\":{\"colorbar\":{\"outlinewidth\":0,\"ticks\":\"\"}},\"colorscale\":{\"diverging\":[[0,\"#8e0152\"],[0.1,\"#c51b7d\"],[0.2,\"#de77ae\"],[0.3,\"#f1b6da\"],[0.4,\"#fde0ef\"],[0.5,\"#f7f7f7\"],[0.6,\"#e6f5d0\"],[0.7,\"#b8e186\"],[0.8,\"#7fbc41\"],[0.9,\"#4d9221\"],[1,\"#276419\"]],\"sequential\":[[0.0,\"#0d0887\"],[0.1111111111111111,\"#46039f\"],[0.2222222222222222,\"#7201a8\"],[0.3333333333333333,\"#9c179e\"],[0.4444444444444444,\"#bd3786\"],[0.5555555555555556,\"#d8576b\"],[0.6666666666666666,\"#ed7953\"],[0.7777777777777778,\"#fb9f3a\"],[0.8888888888888888,\"#fdca26\"],[1.0,\"#f0f921\"]],\"sequentialminus\":[[0.0,\"#0d0887\"],[0.1111111111111111,\"#46039f\"],[0.2222222222222222,\"#7201a8\"],[0.3333333333333333,\"#9c179e\"],[0.4444444444444444,\"#bd3786\"],[0.5555555555555556,\"#d8576b\"],[0.6666666666666666,\"#ed7953\"],[0.7777777777777778,\"#fb9f3a\"],[0.8888888888888888,\"#fdca26\"],[1.0,\"#f0f921\"]]},\"colorway\":[\"#636efa\",\"#EF553B\",\"#00cc96\",\"#ab63fa\",\"#FFA15A\",\"#19d3f3\",\"#FF6692\",\"#B6E880\",\"#FF97FF\",\"#FECB52\"],\"font\":{\"color\":\"#2a3f5f\"},\"geo\":{\"bgcolor\":\"white\",\"lakecolor\":\"white\",\"landcolor\":\"#E5ECF6\",\"showlakes\":true,\"showland\":true,\"subunitcolor\":\"white\"},\"hoverlabel\":{\"align\":\"left\"},\"hovermode\":\"closest\",\"mapbox\":{\"style\":\"light\"},\"paper_bgcolor\":\"white\",\"plot_bgcolor\":\"#E5ECF6\",\"polar\":{\"angularaxis\":{\"gridcolor\":\"white\",\"linecolor\":\"white\",\"ticks\":\"\"},\"bgcolor\":\"#E5ECF6\",\"radialaxis\":{\"gridcolor\":\"white\",\"linecolor\":\"white\",\"ticks\":\"\"}},\"scene\":{\"xaxis\":{\"backgroundcolor\":\"#E5ECF6\",\"gridcolor\":\"white\",\"gridwidth\":2,\"linecolor\":\"white\",\"showbackground\":true,\"ticks\":\"\",\"zerolinecolor\":\"white\"},\"yaxis\":{\"backgroundcolor\":\"#E5ECF6\",\"gridcolor\":\"white\",\"gridwidth\":2,\"linecolor\":\"white\",\"showbackground\":true,\"ticks\":\"\",\"zerolinecolor\":\"white\"},\"zaxis\":{\"backgroundcolor\":\"#E5ECF6\",\"gridcolor\":\"white\",\"gridwidth\":2,\"linecolor\":\"white\",\"showbackground\":true,\"ticks\":\"\",\"zerolinecolor\":\"white\"}},\"shapedefaults\":{\"line\":{\"color\":\"#2a3f5f\"}},\"ternary\":{\"aaxis\":{\"gridcolor\":\"white\",\"linecolor\":\"white\",\"ticks\":\"\"},\"baxis\":{\"gridcolor\":\"white\",\"linecolor\":\"white\",\"ticks\":\"\"},\"bgcolor\":\"#E5ECF6\",\"caxis\":{\"gridcolor\":\"white\",\"linecolor\":\"white\",\"ticks\":\"\"}},\"title\":{\"x\":0.05},\"xaxis\":{\"automargin\":true,\"gridcolor\":\"white\",\"linecolor\":\"white\",\"ticks\":\"\",\"title\":{\"standoff\":15},\"zerolinecolor\":\"white\",\"zerolinewidth\":2},\"yaxis\":{\"automargin\":true,\"gridcolor\":\"white\",\"linecolor\":\"white\",\"ticks\":\"\",\"title\":{\"standoff\":15},\"zerolinecolor\":\"white\",\"zerolinewidth\":2}}},\"xaxis\":{\"anchor\":\"y\",\"domain\":[0.0,1.0],\"title\":{\"text\":\"year\"}},\"yaxis\":{\"anchor\":\"x\",\"domain\":[0.0,1.0],\"title\":{\"text\":\"fastestLapSeconds\"}}},                        {\"responsive\": true}                    ).then(function(){\n",
       "                            \n",
       "var gd = document.getElementById('bcb39fd6-7b40-4cfe-8bcb-57f22ba002b4');\n",
       "var x = new MutationObserver(function (mutations, observer) {{\n",
       "        var display = window.getComputedStyle(gd).display;\n",
       "        if (!display || display === 'none') {{\n",
       "            console.log([gd, 'removed!']);\n",
       "            Plotly.purge(gd);\n",
       "            observer.disconnect();\n",
       "        }}\n",
       "}});\n",
       "\n",
       "// Listen for the removal of the full notebook cells\n",
       "var notebookContainer = gd.closest('#notebook-container');\n",
       "if (notebookContainer) {{\n",
       "    x.observe(notebookContainer, {childList: true});\n",
       "}}\n",
       "\n",
       "// Listen for the clearing of the current output cell\n",
       "var outputEl = gd.closest('.output');\n",
       "if (outputEl) {{\n",
       "    x.observe(outputEl, {childList: true});\n",
       "}}\n",
       "\n",
       "                        })                };                });            </script>        </div>"
      ]
     },
     "metadata": {},
     "output_type": "display_data"
    }
   ],
   "source": [
    "fig = px.line(df_fast_lap_2,x='year',y='fastestLapSeconds',color='circuit_name',hover_data=['race_name','surname','name'])\n",
    "fig.show()"
   ]
  },
  {
   "cell_type": "code",
   "execution_count": null,
   "id": "coordinate-tractor",
   "metadata": {},
   "outputs": [],
   "source": []
  }
 ],
 "metadata": {
  "kernelspec": {
   "display_name": "Python 3",
   "language": "python",
   "name": "python3"
  },
  "language_info": {
   "codemirror_mode": {
    "name": "ipython",
    "version": 3
   },
   "file_extension": ".py",
   "mimetype": "text/x-python",
   "name": "python",
   "nbconvert_exporter": "python",
   "pygments_lexer": "ipython3",
   "version": "3.9.2"
  }
 },
 "nbformat": 4,
 "nbformat_minor": 5
}
