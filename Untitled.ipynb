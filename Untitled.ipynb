{
 "cells": [
  {
   "cell_type": "code",
   "execution_count": 1,
   "id": "breeding-teaching",
   "metadata": {},
   "outputs": [],
   "source": [
    "import os\n",
    "import pandas as pd\n",
    "import numpy as np"
   ]
  },
  {
   "cell_type": "code",
   "execution_count": 68,
   "id": "stretch-twelve",
   "metadata": {},
   "outputs": [],
   "source": [
    "import plotly.express as px"
   ]
  },
  {
   "cell_type": "code",
   "execution_count": null,
   "id": "native-timeline",
   "metadata": {},
   "outputs": [],
   "source": [
    "'''\n",
    "data is from Kaggle: https://www.kaggle.com/cjgdev/formula-1-race-data-19502017\n",
    "'''"
   ]
  },
  {
   "cell_type": "code",
   "execution_count": 2,
   "id": "administrative-stewart",
   "metadata": {},
   "outputs": [],
   "source": [
    "# importing csv files as Pandas DataFrames and appending them to dfs dictionary\n",
    "dfs = {} \n",
    "for f in os.listdir():\n",
    "    if f.endswith('.csv'):\n",
    "        filename = os.path.splitext(f)[0]\n",
    "        dfs[filename] = pd.read_csv(f)"
   ]
  },
  {
   "cell_type": "code",
   "execution_count": null,
   "id": "norwegian-mambo",
   "metadata": {},
   "outputs": [],
   "source": [
    "'''\n",
    "needed columns from each DataFrame:\n",
    "\n",
    "circuits - circuitId, name\n",
    "status - statusId, status\n",
    "drivers - driverId, forename, surname\n",
    "races - raceId, year, circuitId, name\n",
    "constructors - constructorId, name\n",
    "lapTimes - raceId, driverId, lap, position, time, milliseconds\n",
    "results - 'resultId', 'raceId', 'driverId', 'constructorId', 'number', 'grid',\n",
    "       'position', 'positionText', 'positionOrder', 'points', 'laps', 'time',\n",
    "       'milliseconds', 'fastestLap', 'rank', 'fastestLapTime',\n",
    "       'fastestLapSpeed', 'statusId'\n",
    "       \n",
    "'''"
   ]
  },
  {
   "cell_type": "code",
   "execution_count": 20,
   "id": "pressed-lyric",
   "metadata": {},
   "outputs": [],
   "source": [
    "# merging circuits and races as race_info dataframe\n",
    "race_info = pd.merge(dfs['circuits'][['circuitId','name']],dfs['races'][['raceId','year','circuitId','name']], on='circuitId')\n",
    "race_info = race_info.rename(columns={'name_x':'circuit_name','name_y':'race_name'})"
   ]
  },
  {
   "cell_type": "code",
   "execution_count": 22,
   "id": "related-amount",
   "metadata": {},
   "outputs": [],
   "source": [
    "# merging results and drivers as results_driver\n",
    "results_driver = pd.merge(dfs['results'],dfs['drivers'][['driverId','forename','surname']], on='driverId')"
   ]
  },
  {
   "cell_type": "code",
   "execution_count": 24,
   "id": "interior-expression",
   "metadata": {},
   "outputs": [],
   "source": [
    "# merging results_driver and constructors as results_driver_const\n",
    "results_driver_const = pd.merge(results_driver,dfs['constructors'][['constructorId','name']], on='constructorId')"
   ]
  },
  {
   "cell_type": "code",
   "execution_count": 26,
   "id": "advisory-smoke",
   "metadata": {},
   "outputs": [],
   "source": [
    "# merging results_driver_const and status as results_status\n",
    "results_status = pd.merge(results_driver_const,dfs['status'][['statusId','status']], on='statusId')"
   ]
  },
  {
   "cell_type": "code",
   "execution_count": 30,
   "id": "valid-detroit",
   "metadata": {},
   "outputs": [],
   "source": [
    "# merging results_status and lapTimes as results_laptimes\n",
    "results_laptimes = pd.merge(results_status,dfs['lapTimes'][['raceId','driverId','lap','position','time','milliseconds']],on=['raceId','driverId'])\n",
    "results_laptimes = results_laptimes.rename(columns={'position_x':'position','time_x':'time','milliseconds_x':'milliseconds',\n",
    "                                                   'position_y':'lap_position','time_y':'lap_time','milliseconds_y':'lap_milliseconds'})"
   ]
  },
  {
   "cell_type": "code",
   "execution_count": 35,
   "id": "prescribed-mechanism",
   "metadata": {},
   "outputs": [],
   "source": [
    "# merging results_laptimes and race_info as df_final\n",
    "df_final = pd.merge(results_laptimes, race_info, on='raceId')"
   ]
  },
  {
   "cell_type": "code",
   "execution_count": 37,
   "id": "inner-forum",
   "metadata": {},
   "outputs": [
    {
     "name": "stdout",
     "output_type": "stream",
     "text": [
      "<class 'pandas.core.frame.DataFrame'>\n",
      "Int64Index: 426304 entries, 0 to 426303\n",
      "Data columns (total 30 columns):\n",
      " #   Column            Non-Null Count   Dtype  \n",
      "---  ------            --------------   -----  \n",
      " 0   resultId          426304 non-null  int64  \n",
      " 1   raceId            426304 non-null  int64  \n",
      " 2   driverId          426304 non-null  int64  \n",
      " 3   constructorId     426304 non-null  int64  \n",
      " 4   number            426304 non-null  float64\n",
      " 5   grid              426304 non-null  int64  \n",
      " 6   position          370221 non-null  float64\n",
      " 7   positionText      426304 non-null  object \n",
      " 8   positionOrder     426304 non-null  int64  \n",
      " 9   points            426304 non-null  float64\n",
      " 10  laps              426304 non-null  int64  \n",
      " 11  time              206928 non-null  object \n",
      " 12  milliseconds      206928 non-null  float64\n",
      " 13  fastestLap        292714 non-null  float64\n",
      " 14  rank              294145 non-null  float64\n",
      " 15  fastestLapTime    292714 non-null  object \n",
      " 16  fastestLapSpeed   292714 non-null  object \n",
      " 17  statusId          426304 non-null  int64  \n",
      " 18  forename          426304 non-null  object \n",
      " 19  surname           426304 non-null  object \n",
      " 20  name              426304 non-null  object \n",
      " 21  status            426304 non-null  object \n",
      " 22  lap               426304 non-null  int64  \n",
      " 23  lap_position      426304 non-null  int64  \n",
      " 24  lap_time          426304 non-null  object \n",
      " 25  lap_milliseconds  426304 non-null  int64  \n",
      " 26  circuitId         426304 non-null  int64  \n",
      " 27  circuit_name      426304 non-null  object \n",
      " 28  year              426304 non-null  int64  \n",
      " 29  race_name         426304 non-null  object \n",
      "dtypes: float64(6), int64(13), object(11)\n",
      "memory usage: 100.8+ MB\n"
     ]
    }
   ],
   "source": []
  },
  {
   "cell_type": "markdown",
   "id": "requested-atlanta",
   "metadata": {},
   "source": [
    "**How has the fastest lap time changed over time?**"
   ]
  },
  {
   "cell_type": "code",
   "execution_count": 60,
   "id": "sized-suite",
   "metadata": {},
   "outputs": [],
   "source": [
    "# finiding fastest lap for each race\n",
    "df_fast_lap = df_final[['year','race_name','circuit_name','forename','surname','name','fastestLap','fastestLapTime']]"
   ]
  },
  {
   "cell_type": "code",
   "execution_count": 89,
   "id": "altered-klein",
   "metadata": {},
   "outputs": [
    {
     "name": "stderr",
     "output_type": "stream",
     "text": [
      "<ipython-input-89-5c245ff6c728>:2: SettingWithCopyWarning:\n",
      "\n",
      "\n",
      "A value is trying to be set on a copy of a slice from a DataFrame.\n",
      "Try using .loc[row_indexer,col_indexer] = value instead\n",
      "\n",
      "See the caveats in the documentation: https://pandas.pydata.org/pandas-docs/stable/user_guide/indexing.html#returning-a-view-versus-a-copy\n",
      "\n"
     ]
    }
   ],
   "source": [
    "# reformatting fastestLapTime as datetime\n",
    "df_fast_lap['fastestLapTime'] = pd.to_datetime(df_fast_lap['fastestLapTime']).dt.time"
   ]
  },
  {
   "cell_type": "code",
   "execution_count": 91,
   "id": "horizontal-laundry",
   "metadata": {},
   "outputs": [
    {
     "data": {
      "text/html": [
       "<div>\n",
       "<style scoped>\n",
       "    .dataframe tbody tr th:only-of-type {\n",
       "        vertical-align: middle;\n",
       "    }\n",
       "\n",
       "    .dataframe tbody tr th {\n",
       "        vertical-align: top;\n",
       "    }\n",
       "\n",
       "    .dataframe thead th {\n",
       "        text-align: right;\n",
       "    }\n",
       "</style>\n",
       "<table border=\"1\" class=\"dataframe\">\n",
       "  <thead>\n",
       "    <tr style=\"text-align: right;\">\n",
       "      <th></th>\n",
       "      <th>year</th>\n",
       "      <th>race_name</th>\n",
       "      <th>circuit_name</th>\n",
       "      <th>forename</th>\n",
       "      <th>surname</th>\n",
       "      <th>name</th>\n",
       "      <th>fastestLap</th>\n",
       "      <th>fastestLapTime</th>\n",
       "    </tr>\n",
       "  </thead>\n",
       "  <tbody>\n",
       "    <tr>\n",
       "      <th>0</th>\n",
       "      <td>2008</td>\n",
       "      <td>Australian Grand Prix</td>\n",
       "      <td>Albert Park Grand Prix Circuit</td>\n",
       "      <td>Lewis</td>\n",
       "      <td>Hamilton</td>\n",
       "      <td>McLaren</td>\n",
       "      <td>39.0</td>\n",
       "      <td>01:27:30</td>\n",
       "    </tr>\n",
       "    <tr>\n",
       "      <th>1</th>\n",
       "      <td>2008</td>\n",
       "      <td>Australian Grand Prix</td>\n",
       "      <td>Albert Park Grand Prix Circuit</td>\n",
       "      <td>Lewis</td>\n",
       "      <td>Hamilton</td>\n",
       "      <td>McLaren</td>\n",
       "      <td>39.0</td>\n",
       "      <td>01:27:30</td>\n",
       "    </tr>\n",
       "    <tr>\n",
       "      <th>2</th>\n",
       "      <td>2008</td>\n",
       "      <td>Australian Grand Prix</td>\n",
       "      <td>Albert Park Grand Prix Circuit</td>\n",
       "      <td>Lewis</td>\n",
       "      <td>Hamilton</td>\n",
       "      <td>McLaren</td>\n",
       "      <td>39.0</td>\n",
       "      <td>01:27:30</td>\n",
       "    </tr>\n",
       "    <tr>\n",
       "      <th>3</th>\n",
       "      <td>2008</td>\n",
       "      <td>Australian Grand Prix</td>\n",
       "      <td>Albert Park Grand Prix Circuit</td>\n",
       "      <td>Lewis</td>\n",
       "      <td>Hamilton</td>\n",
       "      <td>McLaren</td>\n",
       "      <td>39.0</td>\n",
       "      <td>01:27:30</td>\n",
       "    </tr>\n",
       "    <tr>\n",
       "      <th>4</th>\n",
       "      <td>2008</td>\n",
       "      <td>Australian Grand Prix</td>\n",
       "      <td>Albert Park Grand Prix Circuit</td>\n",
       "      <td>Lewis</td>\n",
       "      <td>Hamilton</td>\n",
       "      <td>McLaren</td>\n",
       "      <td>39.0</td>\n",
       "      <td>01:27:30</td>\n",
       "    </tr>\n",
       "    <tr>\n",
       "      <th>...</th>\n",
       "      <td>...</td>\n",
       "      <td>...</td>\n",
       "      <td>...</td>\n",
       "      <td>...</td>\n",
       "      <td>...</td>\n",
       "      <td>...</td>\n",
       "      <td>...</td>\n",
       "      <td>...</td>\n",
       "    </tr>\n",
       "    <tr>\n",
       "      <th>426299</th>\n",
       "      <td>1998</td>\n",
       "      <td>Canadian Grand Prix</td>\n",
       "      <td>Circuit Gilles Villeneuve</td>\n",
       "      <td>David</td>\n",
       "      <td>Coulthard</td>\n",
       "      <td>McLaren</td>\n",
       "      <td>NaN</td>\n",
       "      <td>NaT</td>\n",
       "    </tr>\n",
       "    <tr>\n",
       "      <th>426300</th>\n",
       "      <td>1998</td>\n",
       "      <td>Canadian Grand Prix</td>\n",
       "      <td>Circuit Gilles Villeneuve</td>\n",
       "      <td>David</td>\n",
       "      <td>Coulthard</td>\n",
       "      <td>McLaren</td>\n",
       "      <td>NaN</td>\n",
       "      <td>NaT</td>\n",
       "    </tr>\n",
       "    <tr>\n",
       "      <th>426301</th>\n",
       "      <td>1998</td>\n",
       "      <td>Canadian Grand Prix</td>\n",
       "      <td>Circuit Gilles Villeneuve</td>\n",
       "      <td>David</td>\n",
       "      <td>Coulthard</td>\n",
       "      <td>McLaren</td>\n",
       "      <td>NaN</td>\n",
       "      <td>NaT</td>\n",
       "    </tr>\n",
       "    <tr>\n",
       "      <th>426302</th>\n",
       "      <td>1998</td>\n",
       "      <td>Canadian Grand Prix</td>\n",
       "      <td>Circuit Gilles Villeneuve</td>\n",
       "      <td>David</td>\n",
       "      <td>Coulthard</td>\n",
       "      <td>McLaren</td>\n",
       "      <td>NaN</td>\n",
       "      <td>NaT</td>\n",
       "    </tr>\n",
       "    <tr>\n",
       "      <th>426303</th>\n",
       "      <td>1998</td>\n",
       "      <td>Canadian Grand Prix</td>\n",
       "      <td>Circuit Gilles Villeneuve</td>\n",
       "      <td>David</td>\n",
       "      <td>Coulthard</td>\n",
       "      <td>McLaren</td>\n",
       "      <td>NaN</td>\n",
       "      <td>NaT</td>\n",
       "    </tr>\n",
       "  </tbody>\n",
       "</table>\n",
       "<p>426304 rows × 8 columns</p>\n",
       "</div>"
      ],
      "text/plain": [
       "        year              race_name                    circuit_name forename  \\\n",
       "0       2008  Australian Grand Prix  Albert Park Grand Prix Circuit    Lewis   \n",
       "1       2008  Australian Grand Prix  Albert Park Grand Prix Circuit    Lewis   \n",
       "2       2008  Australian Grand Prix  Albert Park Grand Prix Circuit    Lewis   \n",
       "3       2008  Australian Grand Prix  Albert Park Grand Prix Circuit    Lewis   \n",
       "4       2008  Australian Grand Prix  Albert Park Grand Prix Circuit    Lewis   \n",
       "...      ...                    ...                             ...      ...   \n",
       "426299  1998    Canadian Grand Prix       Circuit Gilles Villeneuve    David   \n",
       "426300  1998    Canadian Grand Prix       Circuit Gilles Villeneuve    David   \n",
       "426301  1998    Canadian Grand Prix       Circuit Gilles Villeneuve    David   \n",
       "426302  1998    Canadian Grand Prix       Circuit Gilles Villeneuve    David   \n",
       "426303  1998    Canadian Grand Prix       Circuit Gilles Villeneuve    David   \n",
       "\n",
       "          surname     name  fastestLap fastestLapTime  \n",
       "0        Hamilton  McLaren        39.0       01:27:30  \n",
       "1        Hamilton  McLaren        39.0       01:27:30  \n",
       "2        Hamilton  McLaren        39.0       01:27:30  \n",
       "3        Hamilton  McLaren        39.0       01:27:30  \n",
       "4        Hamilton  McLaren        39.0       01:27:30  \n",
       "...           ...      ...         ...            ...  \n",
       "426299  Coulthard  McLaren         NaN            NaT  \n",
       "426300  Coulthard  McLaren         NaN            NaT  \n",
       "426301  Coulthard  McLaren         NaN            NaT  \n",
       "426302  Coulthard  McLaren         NaN            NaT  \n",
       "426303  Coulthard  McLaren         NaN            NaT  \n",
       "\n",
       "[426304 rows x 8 columns]"
      ]
     },
     "execution_count": 91,
     "metadata": {},
     "output_type": "execute_result"
    }
   ],
   "source": [
    "df_fast_lap"
   ]
  },
  {
   "cell_type": "code",
   "execution_count": null,
   "id": "binary-eligibility",
   "metadata": {},
   "outputs": [],
   "source": []
  }
 ],
 "metadata": {
  "kernelspec": {
   "display_name": "Python 3",
   "language": "python",
   "name": "python3"
  },
  "language_info": {
   "codemirror_mode": {
    "name": "ipython",
    "version": 3
   },
   "file_extension": ".py",
   "mimetype": "text/x-python",
   "name": "python",
   "nbconvert_exporter": "python",
   "pygments_lexer": "ipython3",
   "version": "3.9.2"
  }
 },
 "nbformat": 4,
 "nbformat_minor": 5
}
